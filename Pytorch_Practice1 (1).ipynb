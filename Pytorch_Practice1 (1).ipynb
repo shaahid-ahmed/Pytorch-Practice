{
  "nbformat": 4,
  "nbformat_minor": 0,
  "metadata": {
    "colab": {
      "provenance": [],
      "gpuType": "T4"
    },
    "kernelspec": {
      "name": "python3",
      "display_name": "Python 3"
    },
    "language_info": {
      "name": "python"
    },
    "accelerator": "GPU"
  },
  "cells": [
    {
      "cell_type": "code",
      "execution_count": null,
      "metadata": {
        "id": "r7J9IF4RZ814",
        "colab": {
          "base_uri": "https://localhost:8080/"
        },
        "outputId": "f88abacd-1698-46b6-c9f2-4f720be51f63"
      },
      "outputs": [
        {
          "output_type": "stream",
          "name": "stdout",
          "text": [
            "Mon Nov 27 15:55:40 2023       \n",
            "+-----------------------------------------------------------------------------+\n",
            "| NVIDIA-SMI 525.105.17   Driver Version: 525.105.17   CUDA Version: 12.0     |\n",
            "|-------------------------------+----------------------+----------------------+\n",
            "| GPU  Name        Persistence-M| Bus-Id        Disp.A | Volatile Uncorr. ECC |\n",
            "| Fan  Temp  Perf  Pwr:Usage/Cap|         Memory-Usage | GPU-Util  Compute M. |\n",
            "|                               |                      |               MIG M. |\n",
            "|===============================+======================+======================|\n",
            "|   0  Tesla T4            Off  | 00000000:00:04.0 Off |                    0 |\n",
            "| N/A   54C    P8    10W /  70W |      0MiB / 15360MiB |      0%      Default |\n",
            "|                               |                      |                  N/A |\n",
            "+-------------------------------+----------------------+----------------------+\n",
            "                                                                               \n",
            "+-----------------------------------------------------------------------------+\n",
            "| Processes:                                                                  |\n",
            "|  GPU   GI   CI        PID   Type   Process name                  GPU Memory |\n",
            "|        ID   ID                                                   Usage      |\n",
            "|=============================================================================|\n",
            "|  No running processes found                                                 |\n",
            "+-----------------------------------------------------------------------------+\n"
          ]
        }
      ],
      "source": [
        "!nvidia-smi"
      ]
    },
    {
      "cell_type": "code",
      "source": [
        "import torch\n",
        "import pandas as pd\n",
        "import numpy as np\n",
        "import matplotlib.pyplot as plt\n",
        "\n",
        "print(torch.__version__)"
      ],
      "metadata": {
        "colab": {
          "base_uri": "https://localhost:8080/"
        },
        "id": "dxqlA38YfsFj",
        "outputId": "8ae0ec64-83c5-447a-ef26-76c58846f342"
      },
      "execution_count": null,
      "outputs": [
        {
          "output_type": "stream",
          "name": "stdout",
          "text": [
            "2.1.0+cu118\n"
          ]
        }
      ]
    },
    {
      "cell_type": "markdown",
      "source": [
        "# Introduction to Tensors"
      ],
      "metadata": {
        "id": "TAcMQNKqhzF2"
      }
    },
    {
      "cell_type": "markdown",
      "source": [
        "**Tensors**"
      ],
      "metadata": {
        "id": "WaN1UNOvhuYD"
      }
    },
    {
      "cell_type": "code",
      "source": [
        "#Scalars\n",
        "scalar = torch.tensor(7) #Creating a tensor\n",
        "scalar"
      ],
      "metadata": {
        "colab": {
          "base_uri": "https://localhost:8080/"
        },
        "id": "JsM_GBNTghhM",
        "outputId": "5f364a91-5b3b-4467-f3ce-cdfe3ebaae7a"
      },
      "execution_count": null,
      "outputs": [
        {
          "output_type": "execute_result",
          "data": {
            "text/plain": [
              "tensor(7)"
            ]
          },
          "metadata": {},
          "execution_count": 3
        }
      ]
    },
    {
      "cell_type": "code",
      "source": [
        "scalar.ndim #number of dimension"
      ],
      "metadata": {
        "colab": {
          "base_uri": "https://localhost:8080/"
        },
        "id": "Lw9Q365Bh-TU",
        "outputId": "ed686c54-b499-4d32-b69a-67aa8ae44ac9"
      },
      "execution_count": null,
      "outputs": [
        {
          "output_type": "execute_result",
          "data": {
            "text/plain": [
              "0"
            ]
          },
          "metadata": {},
          "execution_count": 4
        }
      ]
    },
    {
      "cell_type": "code",
      "source": [
        "#Get back tensor as python datatype\n",
        "scalar.item()"
      ],
      "metadata": {
        "colab": {
          "base_uri": "https://localhost:8080/"
        },
        "id": "a-byOUS1ik-2",
        "outputId": "227ed52a-2763-4e7f-83b4-470999e8fc82"
      },
      "execution_count": null,
      "outputs": [
        {
          "output_type": "execute_result",
          "data": {
            "text/plain": [
              "7"
            ]
          },
          "metadata": {},
          "execution_count": 5
        }
      ]
    },
    {
      "cell_type": "code",
      "source": [
        "#vector\n",
        "vector = torch.tensor([7,7])\n",
        "vector"
      ],
      "metadata": {
        "colab": {
          "base_uri": "https://localhost:8080/"
        },
        "id": "Sua4FTfDirLS",
        "outputId": "d687761c-c0d0-47fc-e3c8-7f248338c647"
      },
      "execution_count": null,
      "outputs": [
        {
          "output_type": "execute_result",
          "data": {
            "text/plain": [
              "tensor([7, 7])"
            ]
          },
          "metadata": {},
          "execution_count": 6
        }
      ]
    },
    {
      "cell_type": "code",
      "source": [
        "vector.ndim"
      ],
      "metadata": {
        "colab": {
          "base_uri": "https://localhost:8080/"
        },
        "id": "FXrLS-Kpi8wQ",
        "outputId": "3c3ba2e3-4816-46e5-dd77-3324c8f0c7b7"
      },
      "execution_count": null,
      "outputs": [
        {
          "output_type": "execute_result",
          "data": {
            "text/plain": [
              "1"
            ]
          },
          "metadata": {},
          "execution_count": 7
        }
      ]
    },
    {
      "cell_type": "code",
      "source": [
        "vector.shape"
      ],
      "metadata": {
        "colab": {
          "base_uri": "https://localhost:8080/"
        },
        "id": "ChqPxVBti_Gz",
        "outputId": "131c9c78-8cda-42da-cb56-17b2d882b37f"
      },
      "execution_count": null,
      "outputs": [
        {
          "output_type": "execute_result",
          "data": {
            "text/plain": [
              "torch.Size([2])"
            ]
          },
          "metadata": {},
          "execution_count": 8
        }
      ]
    },
    {
      "cell_type": "code",
      "source": [
        "#MATRIX\n",
        "MATRIX = torch.tensor([[7,8],[9,10]])\n",
        "MATRIX"
      ],
      "metadata": {
        "colab": {
          "base_uri": "https://localhost:8080/"
        },
        "id": "3x7SMI7IjCNU",
        "outputId": "7f7e6ca4-de40-4096-b1a4-dfddb5dac334"
      },
      "execution_count": null,
      "outputs": [
        {
          "output_type": "execute_result",
          "data": {
            "text/plain": [
              "tensor([[ 7,  8],\n",
              "        [ 9, 10]])"
            ]
          },
          "metadata": {},
          "execution_count": 10
        }
      ]
    },
    {
      "cell_type": "code",
      "source": [
        "MATRIX.ndim"
      ],
      "metadata": {
        "colab": {
          "base_uri": "https://localhost:8080/"
        },
        "id": "WpCYDrGTjYmt",
        "outputId": "ad44e1c6-7e4e-4e46-f120-891efef5039a"
      },
      "execution_count": null,
      "outputs": [
        {
          "output_type": "execute_result",
          "data": {
            "text/plain": [
              "2"
            ]
          },
          "metadata": {},
          "execution_count": 11
        }
      ]
    },
    {
      "cell_type": "code",
      "source": [
        "MATRIX[0]"
      ],
      "metadata": {
        "colab": {
          "base_uri": "https://localhost:8080/"
        },
        "id": "F9_tXnSOj3W3",
        "outputId": "7c3f3896-b46c-4762-c213-b0ebc2234fef"
      },
      "execution_count": null,
      "outputs": [
        {
          "output_type": "execute_result",
          "data": {
            "text/plain": [
              "tensor([7, 8])"
            ]
          },
          "metadata": {},
          "execution_count": 12
        }
      ]
    },
    {
      "cell_type": "code",
      "source": [
        "MATRIX.shape"
      ],
      "metadata": {
        "colab": {
          "base_uri": "https://localhost:8080/"
        },
        "id": "EQ8Yhq1Fj53n",
        "outputId": "8dd8ea52-fc56-4493-c366-ba333aa6b8b0"
      },
      "execution_count": null,
      "outputs": [
        {
          "output_type": "execute_result",
          "data": {
            "text/plain": [
              "torch.Size([2, 2])"
            ]
          },
          "metadata": {},
          "execution_count": 13
        }
      ]
    },
    {
      "cell_type": "code",
      "source": [
        "#TENSOR\n",
        "TENSOR = torch.tensor([[[1,2,3],[3,6,9],[2,4,5]]])\n",
        "TENSOR"
      ],
      "metadata": {
        "colab": {
          "base_uri": "https://localhost:8080/"
        },
        "id": "U1dJeiRfkEmH",
        "outputId": "f830b1bb-0410-4cae-ac19-980b31ffe423"
      },
      "execution_count": null,
      "outputs": [
        {
          "output_type": "execute_result",
          "data": {
            "text/plain": [
              "tensor([[[1, 2, 3],\n",
              "         [3, 6, 9],\n",
              "         [2, 4, 5]]])"
            ]
          },
          "metadata": {},
          "execution_count": 14
        }
      ]
    },
    {
      "cell_type": "code",
      "source": [
        "TENSOR.ndim"
      ],
      "metadata": {
        "colab": {
          "base_uri": "https://localhost:8080/"
        },
        "id": "maeO4ciDkfbo",
        "outputId": "2b1963b3-f8e3-480f-b4ef-61fcabe30107"
      },
      "execution_count": null,
      "outputs": [
        {
          "output_type": "execute_result",
          "data": {
            "text/plain": [
              "3"
            ]
          },
          "metadata": {},
          "execution_count": 15
        }
      ]
    },
    {
      "cell_type": "code",
      "source": [
        "TENSOR.shape"
      ],
      "metadata": {
        "colab": {
          "base_uri": "https://localhost:8080/"
        },
        "id": "eMrB9sztkhuw",
        "outputId": "bc5b0100-7618-4738-912d-8e39db5c2c71"
      },
      "execution_count": null,
      "outputs": [
        {
          "output_type": "execute_result",
          "data": {
            "text/plain": [
              "torch.Size([1, 3, 3])"
            ]
          },
          "metadata": {},
          "execution_count": 16
        }
      ]
    },
    {
      "cell_type": "code",
      "source": [
        "TENSOR[0]"
      ],
      "metadata": {
        "colab": {
          "base_uri": "https://localhost:8080/"
        },
        "id": "Zzy55X6Ykj3D",
        "outputId": "deb679c9-b339-4462-f5ef-8645063ee31e"
      },
      "execution_count": null,
      "outputs": [
        {
          "output_type": "execute_result",
          "data": {
            "text/plain": [
              "tensor([[1, 2, 3],\n",
              "        [3, 6, 9],\n",
              "        [2, 4, 5]])"
            ]
          },
          "metadata": {},
          "execution_count": 17
        }
      ]
    },
    {
      "cell_type": "markdown",
      "source": [
        "### Random Tensors"
      ],
      "metadata": {
        "id": "gzfjxsoIl2a0"
      }
    },
    {
      "cell_type": "code",
      "source": [
        "#Create a random tensor of size (3,4)\n",
        "random_tensor = torch.rand(3,4)\n",
        "random_tensor"
      ],
      "metadata": {
        "colab": {
          "base_uri": "https://localhost:8080/"
        },
        "id": "Ld3f1BDIl5Ju",
        "outputId": "5c47b0c9-14b0-4db3-adff-fff758e926c4"
      },
      "execution_count": null,
      "outputs": [
        {
          "output_type": "execute_result",
          "data": {
            "text/plain": [
              "tensor([[0.1378, 0.9311, 0.8297, 0.2580],\n",
              "        [0.9834, 0.8472, 0.5090, 0.4402],\n",
              "        [0.5556, 0.4815, 0.8115, 0.4170]])"
            ]
          },
          "metadata": {},
          "execution_count": 18
        }
      ]
    },
    {
      "cell_type": "code",
      "source": [
        "random_tensor.ndim"
      ],
      "metadata": {
        "colab": {
          "base_uri": "https://localhost:8080/"
        },
        "id": "Kg9G_bYJmzOv",
        "outputId": "0c9fd537-eb75-4a5c-e6eb-34d272711c9e"
      },
      "execution_count": null,
      "outputs": [
        {
          "output_type": "execute_result",
          "data": {
            "text/plain": [
              "2"
            ]
          },
          "metadata": {},
          "execution_count": 19
        }
      ]
    },
    {
      "cell_type": "code",
      "source": [
        "#Create a random tensor of size (224,224,3)\n",
        "random_image_size_tensor = torch.rand(size=(224,224,3))\n",
        "random_image_size_tensor.shape, random_image_size_tensor.ndim"
      ],
      "metadata": {
        "colab": {
          "base_uri": "https://localhost:8080/"
        },
        "id": "Ni9Y8HbQm3aJ",
        "outputId": "2ffe6b26-2277-4074-d9d1-e710ceea357a"
      },
      "execution_count": null,
      "outputs": [
        {
          "output_type": "execute_result",
          "data": {
            "text/plain": [
              "(torch.Size([224, 224, 3]), 3)"
            ]
          },
          "metadata": {},
          "execution_count": 20
        }
      ]
    },
    {
      "cell_type": "markdown",
      "source": [
        "### Zeroes and ones"
      ],
      "metadata": {
        "id": "FexdDzLzoVNZ"
      }
    },
    {
      "cell_type": "code",
      "source": [
        "#Create a tensor of all zeroes\n",
        "zeros = torch.zeros(size=(3,4))\n",
        "zeros, zeros.dtype"
      ],
      "metadata": {
        "colab": {
          "base_uri": "https://localhost:8080/"
        },
        "id": "kjkkVzwkoRt9",
        "outputId": "a610d298-57c8-4113-a962-b2bcb7443ea8"
      },
      "execution_count": null,
      "outputs": [
        {
          "output_type": "execute_result",
          "data": {
            "text/plain": [
              "(tensor([[0., 0., 0., 0.],\n",
              "         [0., 0., 0., 0.],\n",
              "         [0., 0., 0., 0.]]),\n",
              " torch.float32)"
            ]
          },
          "metadata": {},
          "execution_count": 21
        }
      ]
    },
    {
      "cell_type": "code",
      "source": [
        "#Create a tensor of all ones\n",
        "ones = torch.ones(size=(3,4))\n",
        "ones, ones.dtype"
      ],
      "metadata": {
        "colab": {
          "base_uri": "https://localhost:8080/"
        },
        "id": "sHAkszEdoN48",
        "outputId": "f634912f-4c48-44a3-fb57-8125dcac9a19"
      },
      "execution_count": null,
      "outputs": [
        {
          "output_type": "execute_result",
          "data": {
            "text/plain": [
              "(tensor([[1., 1., 1., 1.],\n",
              "         [1., 1., 1., 1.],\n",
              "         [1., 1., 1., 1.]]),\n",
              " torch.float32)"
            ]
          },
          "metadata": {},
          "execution_count": 22
        }
      ]
    },
    {
      "cell_type": "markdown",
      "source": [
        "###Creating a range and tensors"
      ],
      "metadata": {
        "id": "Ea6hI7fIpGHN"
      }
    },
    {
      "cell_type": "code",
      "source": [
        "zero_to_ten_deprecated = torch.range(0,10)\n",
        "\n",
        "#Create a range of values 0 to 10\n",
        "zero_to_ten = torch.arange(start=0, end=10, step=1)\n",
        "zero_to_ten"
      ],
      "metadata": {
        "colab": {
          "base_uri": "https://localhost:8080/"
        },
        "id": "eiO6HMnbovn7",
        "outputId": "b62e7c19-18c2-43b6-e563-89ceb550697b"
      },
      "execution_count": null,
      "outputs": [
        {
          "output_type": "stream",
          "name": "stderr",
          "text": [
            "<ipython-input-23-f71dc6ceb454>:1: UserWarning: torch.range is deprecated and will be removed in a future release because its behavior is inconsistent with Python's range builtin. Instead, use torch.arange, which produces values in [start, end).\n",
            "  zero_to_ten_deprecated = torch.range(0,10)\n"
          ]
        },
        {
          "output_type": "execute_result",
          "data": {
            "text/plain": [
              "tensor([0, 1, 2, 3, 4, 5, 6, 7, 8, 9])"
            ]
          },
          "metadata": {},
          "execution_count": 23
        }
      ]
    },
    {
      "cell_type": "code",
      "source": [
        "zero_to_ten_deprecated"
      ],
      "metadata": {
        "colab": {
          "base_uri": "https://localhost:8080/"
        },
        "id": "OWlREBthpYNR",
        "outputId": "5f6fd99a-f14d-4d7e-8d66-c0bf995cca5a"
      },
      "execution_count": null,
      "outputs": [
        {
          "output_type": "execute_result",
          "data": {
            "text/plain": [
              "tensor([ 0.,  1.,  2.,  3.,  4.,  5.,  6.,  7.,  8.,  9., 10.])"
            ]
          },
          "metadata": {},
          "execution_count": 24
        }
      ]
    },
    {
      "cell_type": "markdown",
      "source": [
        "###Getting information from tensors"
      ],
      "metadata": {
        "id": "VE3AxhQcpqFM"
      }
    },
    {
      "cell_type": "code",
      "source": [
        "example = torch.rand(3,4)\n",
        "\n",
        "print(example)\n",
        "print(\"Shape of tensor:\",example.shape)\n",
        "print(\"Datatype of tensor:\",example.dtype)\n",
        "print(\"Device tensor is stored on:\",example.device)"
      ],
      "metadata": {
        "colab": {
          "base_uri": "https://localhost:8080/"
        },
        "id": "O-dY0qXLpudj",
        "outputId": "9752fb2e-579e-4592-ed92-e71e8110454d"
      },
      "execution_count": null,
      "outputs": [
        {
          "output_type": "stream",
          "name": "stdout",
          "text": [
            "tensor([[0.8760, 0.5014, 0.7127, 0.5647],\n",
            "        [0.5035, 0.3989, 0.7331, 0.2021],\n",
            "        [0.9497, 0.4946, 0.9836, 0.3651]])\n",
            "Shape of tensor: torch.Size([3, 4])\n",
            "Datatype of tensor: torch.float32\n",
            "Device tensor is stored on: cpu\n"
          ]
        }
      ]
    },
    {
      "cell_type": "markdown",
      "source": [
        "###Basic Operations"
      ],
      "metadata": {
        "id": "cPa4Oq2nuoUn"
      }
    },
    {
      "cell_type": "code",
      "source": [
        "#addition\n",
        "add = torch.tensor([10,9,7,4])\n",
        "add + 10"
      ],
      "metadata": {
        "colab": {
          "base_uri": "https://localhost:8080/"
        },
        "id": "blvP5K_0uqn6",
        "outputId": "86258458-5f14-452e-ec11-505179b10808"
      },
      "execution_count": null,
      "outputs": [
        {
          "output_type": "execute_result",
          "data": {
            "text/plain": [
              "tensor([20, 19, 17, 14])"
            ]
          },
          "metadata": {},
          "execution_count": 26
        }
      ]
    },
    {
      "cell_type": "code",
      "source": [
        "#multiple\n",
        "add*10"
      ],
      "metadata": {
        "colab": {
          "base_uri": "https://localhost:8080/"
        },
        "id": "gCoUc980u5HO",
        "outputId": "5c7f6d8b-4f3c-4179-a691-d7314f6742d1"
      },
      "execution_count": null,
      "outputs": [
        {
          "output_type": "execute_result",
          "data": {
            "text/plain": [
              "tensor([100,  90,  70,  40])"
            ]
          },
          "metadata": {},
          "execution_count": 27
        }
      ]
    },
    {
      "cell_type": "code",
      "source": [
        "add"
      ],
      "metadata": {
        "colab": {
          "base_uri": "https://localhost:8080/"
        },
        "id": "en8hRALlu-g3",
        "outputId": "a8af3df9-6b42-4b00-e65f-64497d158d09"
      },
      "execution_count": null,
      "outputs": [
        {
          "output_type": "execute_result",
          "data": {
            "text/plain": [
              "tensor([10,  9,  7,  4])"
            ]
          },
          "metadata": {},
          "execution_count": 28
        }
      ]
    },
    {
      "cell_type": "code",
      "source": [
        "add = add-10\n",
        "add"
      ],
      "metadata": {
        "colab": {
          "base_uri": "https://localhost:8080/"
        },
        "id": "W4JSGqpEvFGe",
        "outputId": "8b1ec1af-8f0a-493b-9bad-b5b9fcfd3de8"
      },
      "execution_count": null,
      "outputs": [
        {
          "output_type": "execute_result",
          "data": {
            "text/plain": [
              "tensor([ 0, -1, -3, -6])"
            ]
          },
          "metadata": {},
          "execution_count": 29
        }
      ]
    },
    {
      "cell_type": "code",
      "source": [
        "torch.multiply(add,10)"
      ],
      "metadata": {
        "colab": {
          "base_uri": "https://localhost:8080/"
        },
        "id": "LnMJ-O2dvIQl",
        "outputId": "7018c7da-4c26-448c-91fb-27c2274f02b8"
      },
      "execution_count": null,
      "outputs": [
        {
          "output_type": "execute_result",
          "data": {
            "text/plain": [
              "tensor([  0, -10, -30, -60])"
            ]
          },
          "metadata": {},
          "execution_count": 30
        }
      ]
    },
    {
      "cell_type": "code",
      "source": [
        "add * add"
      ],
      "metadata": {
        "colab": {
          "base_uri": "https://localhost:8080/"
        },
        "id": "q1pYvDqZvPjY",
        "outputId": "84b7f38c-5e96-4215-9d14-f4ffbc94ef2d"
      },
      "execution_count": null,
      "outputs": [
        {
          "output_type": "execute_result",
          "data": {
            "text/plain": [
              "tensor([ 0,  1,  9, 36])"
            ]
          },
          "metadata": {},
          "execution_count": 31
        }
      ]
    },
    {
      "cell_type": "markdown",
      "source": [
        "###Matrix Multiplication"
      ],
      "metadata": {
        "id": "nLKfEhebva0P"
      }
    },
    {
      "cell_type": "code",
      "source": [
        "torch.matmul(add,add)"
      ],
      "metadata": {
        "colab": {
          "base_uri": "https://localhost:8080/"
        },
        "id": "UBqU1BVkvdgz",
        "outputId": "123be5d9-4367-4b58-a822-b40d7c2cc3b0"
      },
      "execution_count": null,
      "outputs": [
        {
          "output_type": "execute_result",
          "data": {
            "text/plain": [
              "tensor(46)"
            ]
          },
          "metadata": {},
          "execution_count": 32
        }
      ]
    },
    {
      "cell_type": "code",
      "source": [
        "A = torch.tensor([[1,2],[3,4],[5,6]],dtype=torch.float32)\n",
        "B = torch.tensor([[3,2,4],[6,3,4]],dtype=torch.float32)\n",
        "A @ B #Matrix Multiplication"
      ],
      "metadata": {
        "colab": {
          "base_uri": "https://localhost:8080/"
        },
        "id": "d7kxOcWyv_nv",
        "outputId": "02d8fb03-b4a9-49ea-fa9d-e0bdfece8f15"
      },
      "execution_count": null,
      "outputs": [
        {
          "output_type": "execute_result",
          "data": {
            "text/plain": [
              "tensor([[15.,  8., 12.],\n",
              "        [33., 18., 28.],\n",
              "        [51., 28., 44.]])"
            ]
          },
          "metadata": {},
          "execution_count": 38
        }
      ]
    },
    {
      "cell_type": "code",
      "source": [
        "print(B.T)"
      ],
      "metadata": {
        "colab": {
          "base_uri": "https://localhost:8080/"
        },
        "id": "hhD5tHPQweX0",
        "outputId": "9e14be53-39c8-4aab-ee42-ff2503b304ae"
      },
      "execution_count": null,
      "outputs": [
        {
          "output_type": "stream",
          "name": "stdout",
          "text": [
            "tensor([[3., 6.],\n",
            "        [2., 3.],\n",
            "        [4., 4.]])\n"
          ]
        }
      ]
    },
    {
      "cell_type": "code",
      "source": [
        "#Linear Network\n",
        "#y = x*(A.T)+b\n",
        "#Since linear layer starts with a random weights matrix , lets make it reproducible\n",
        "torch.manual_seed(42)\n",
        "\n",
        "linear = torch.nn.Linear(in_features=2, out_features=6)\n",
        "k = A\n",
        "output = linear(k)\n",
        "\n",
        "print(k.shape)\n",
        "print(output)\n",
        "print(output.shape)"
      ],
      "metadata": {
        "colab": {
          "base_uri": "https://localhost:8080/"
        },
        "id": "cXX7lA6Lwh6X",
        "outputId": "3b3953a5-06e4-4ca5-9aa8-67882fd843d8"
      },
      "execution_count": null,
      "outputs": [
        {
          "output_type": "stream",
          "name": "stdout",
          "text": [
            "torch.Size([3, 2])\n",
            "tensor([[2.2368, 1.2292, 0.4714, 0.3864, 0.1309, 0.9838],\n",
            "        [4.4919, 2.1970, 0.4469, 0.5285, 0.3401, 2.4777],\n",
            "        [6.7469, 3.1648, 0.4224, 0.6705, 0.5493, 3.9716]],\n",
            "       grad_fn=<AddmmBackward0>)\n",
            "torch.Size([3, 6])\n"
          ]
        }
      ]
    },
    {
      "cell_type": "markdown",
      "source": [
        "###Finding the min,max,mean,sum,etc"
      ],
      "metadata": {
        "id": "b8rgSFYPzQ3n"
      }
    },
    {
      "cell_type": "code",
      "source": [
        "cat = torch.tensor([14,5,9,6])\n",
        "cat"
      ],
      "metadata": {
        "colab": {
          "base_uri": "https://localhost:8080/"
        },
        "id": "QuQis9_Eza-H",
        "outputId": "bd8c536c-5be5-4cfb-b8ac-f685f3ce2623"
      },
      "execution_count": null,
      "outputs": [
        {
          "output_type": "execute_result",
          "data": {
            "text/plain": [
              "tensor([14,  5,  9,  6])"
            ]
          },
          "metadata": {},
          "execution_count": 41
        }
      ]
    },
    {
      "cell_type": "code",
      "source": [
        "print(cat.max())\n",
        "print(cat.min())\n",
        "print(cat.type(torch.float32).mean())\n",
        "print(cat.sum())"
      ],
      "metadata": {
        "colab": {
          "base_uri": "https://localhost:8080/"
        },
        "id": "kfzN8vc1zn1I",
        "outputId": "c57bf93a-0818-4b1f-e9b3-41af05ec0549"
      },
      "execution_count": null,
      "outputs": [
        {
          "output_type": "stream",
          "name": "stdout",
          "text": [
            "tensor(14)\n",
            "tensor(5)\n",
            "tensor(8.5000)\n",
            "tensor(34)\n"
          ]
        }
      ]
    },
    {
      "cell_type": "code",
      "source": [
        "#positional max and min\n",
        "print(cat.argmax())\n",
        "print(cat.argmin())"
      ],
      "metadata": {
        "colab": {
          "base_uri": "https://localhost:8080/"
        },
        "id": "Axreu9QQz_c_",
        "outputId": "24fd287f-e1f4-4342-ea53-14163a40344f"
      },
      "execution_count": null,
      "outputs": [
        {
          "output_type": "stream",
          "name": "stdout",
          "text": [
            "tensor(0)\n",
            "tensor(1)\n"
          ]
        }
      ]
    },
    {
      "cell_type": "code",
      "source": [
        "cat.type(torch.float16)"
      ],
      "metadata": {
        "colab": {
          "base_uri": "https://localhost:8080/"
        },
        "id": "kmbdTybH0Uh2",
        "outputId": "19f2afa7-e2d7-4fe2-c083-5c0d14736766"
      },
      "execution_count": null,
      "outputs": [
        {
          "output_type": "execute_result",
          "data": {
            "text/plain": [
              "tensor([14.,  5.,  9.,  6.], dtype=torch.float16)"
            ]
          },
          "metadata": {},
          "execution_count": 47
        }
      ]
    },
    {
      "cell_type": "code",
      "source": [
        "cat"
      ],
      "metadata": {
        "colab": {
          "base_uri": "https://localhost:8080/"
        },
        "id": "vKAFxx0K0ba4",
        "outputId": "5712e662-d6fd-4fbf-8751-792386373268"
      },
      "execution_count": null,
      "outputs": [
        {
          "output_type": "execute_result",
          "data": {
            "text/plain": [
              "tensor([14,  5,  9,  6])"
            ]
          },
          "metadata": {},
          "execution_count": 48
        }
      ]
    },
    {
      "cell_type": "code",
      "source": [
        "#permute\n",
        "print(k.shape)\n",
        "k_permuted = k.permute(1,0)\n",
        "print(k_permuted.shape)"
      ],
      "metadata": {
        "colab": {
          "base_uri": "https://localhost:8080/"
        },
        "id": "ta0VGzKl1CU0",
        "outputId": "8f0e7321-e8ec-4c94-90f5-7bc38081abf7"
      },
      "execution_count": null,
      "outputs": [
        {
          "output_type": "stream",
          "name": "stdout",
          "text": [
            "torch.Size([3, 2])\n",
            "torch.Size([2, 3])\n"
          ]
        }
      ]
    },
    {
      "cell_type": "markdown",
      "source": [
        "###Reproducibility"
      ],
      "metadata": {
        "id": "bDg3GsHf8jTG"
      }
    },
    {
      "cell_type": "markdown",
      "source": [
        "To reduce the randomness in NN and pytorch comes the concept of a random seed.\n",
        "Essentially what the random seed does is \"flavour\" the randomness."
      ],
      "metadata": {
        "id": "T5-qgQkC8m8l"
      }
    },
    {
      "cell_type": "code",
      "source": [
        "import torch\n",
        "\n",
        "#create two random tensors\n",
        "\n",
        "random_tensor_A = torch.rand(3,4)\n",
        "random_tensor_B = torch.rand(3,4)\n",
        "print(random_tensor_A)\n",
        "print(random_tensor_B)\n",
        "print(random_tensor_A == random_tensor_B)"
      ],
      "metadata": {
        "colab": {
          "base_uri": "https://localhost:8080/"
        },
        "id": "wjHmc1mL8lXE",
        "outputId": "9c515008-f952-422e-b434-a4bd39af48dc"
      },
      "execution_count": null,
      "outputs": [
        {
          "output_type": "stream",
          "name": "stdout",
          "text": [
            "tensor([[0.9710, 0.3673, 0.1011, 0.1031],\n",
            "        [0.0958, 0.1313, 0.9256, 0.0076],\n",
            "        [0.2588, 0.5404, 0.2330, 0.4886]])\n",
            "tensor([[0.1090, 0.3526, 0.8802, 0.0517],\n",
            "        [0.0492, 0.4068, 0.6442, 0.7940],\n",
            "        [0.7219, 0.8877, 0.3089, 0.2780]])\n",
            "tensor([[False, False, False, False],\n",
            "        [False, False, False, False],\n",
            "        [False, False, False, False]])\n"
          ]
        }
      ]
    },
    {
      "cell_type": "code",
      "source": [
        "#Let's make some random but reproducible tensors\n",
        "import torch\n",
        "\n",
        "#Set the random seed\n",
        "RANDOM_SEED = 42\n",
        "torch.manual_seed(RANDOM_SEED)\n",
        "random_tensor_C = torch.rand(3,4)\n",
        "torch.manual_seed(RANDOM_SEED)\n",
        "random_tensor_D = torch.rand(3,4)\n",
        "print(random_tensor_C)\n",
        "print(random_tensor_D)\n",
        "print(random_tensor_C == random_tensor_D)"
      ],
      "metadata": {
        "colab": {
          "base_uri": "https://localhost:8080/"
        },
        "id": "yfUnZbrr9VxZ",
        "outputId": "fd90472e-39ce-48b8-a91f-d748fddb89cb"
      },
      "execution_count": null,
      "outputs": [
        {
          "output_type": "stream",
          "name": "stdout",
          "text": [
            "tensor([[0.8823, 0.9150, 0.3829, 0.9593],\n",
            "        [0.3904, 0.6009, 0.2566, 0.7936],\n",
            "        [0.9408, 0.1332, 0.9346, 0.5936]])\n",
            "tensor([[0.8823, 0.9150, 0.3829, 0.9593],\n",
            "        [0.3904, 0.6009, 0.2566, 0.7936],\n",
            "        [0.9408, 0.1332, 0.9346, 0.5936]])\n",
            "tensor([[True, True, True, True],\n",
            "        [True, True, True, True],\n",
            "        [True, True, True, True]])\n"
          ]
        }
      ]
    },
    {
      "cell_type": "markdown",
      "source": [
        "Extra Resorces for reproducibility:\n",
        "\n",
        "---\n",
        "https://pytorch.org/docs/stable/notes/randomness.html\n",
        "\n",
        "https://en.wikipedia.org/wiki/Random_seed"
      ],
      "metadata": {
        "id": "gCOjR_7__f1N"
      }
    },
    {
      "cell_type": "markdown",
      "source": [
        "###Running tensors on GPUs"
      ],
      "metadata": {
        "id": "aaUDgzZv_1qN"
      }
    },
    {
      "cell_type": "code",
      "source": [
        "#Check for GPU\n",
        "import torch\n",
        "torch.cuda.is_available()"
      ],
      "metadata": {
        "colab": {
          "base_uri": "https://localhost:8080/"
        },
        "id": "8LobiHQI_kqm",
        "outputId": "cb7ed38f-91a5-42f0-c327-6f9dcb3fca29"
      },
      "execution_count": null,
      "outputs": [
        {
          "output_type": "execute_result",
          "data": {
            "text/plain": [
              "True"
            ]
          },
          "metadata": {},
          "execution_count": 1
        }
      ]
    },
    {
      "cell_type": "code",
      "source": [
        "#Set device type\n",
        "device = \"cuda\" if torch.cuda.is_available() else \"cpu\"\n",
        "device"
      ],
      "metadata": {
        "colab": {
          "base_uri": "https://localhost:8080/",
          "height": 36
        },
        "id": "RMH9KbmhA3aO",
        "outputId": "264c5dae-52c5-4b30-92fe-3cccbdd981fb"
      },
      "execution_count": null,
      "outputs": [
        {
          "output_type": "execute_result",
          "data": {
            "text/plain": [
              "'cuda'"
            ],
            "application/vnd.google.colaboratory.intrinsic+json": {
              "type": "string"
            }
          },
          "metadata": {},
          "execution_count": 2
        }
      ]
    },
    {
      "cell_type": "code",
      "source": [
        "#Count number of devices\n",
        "torch.cuda.device_count()"
      ],
      "metadata": {
        "colab": {
          "base_uri": "https://localhost:8080/"
        },
        "id": "DivwczGGBCmy",
        "outputId": "0fb0149a-af34-4771-b2f7-c19349dce8ab"
      },
      "execution_count": null,
      "outputs": [
        {
          "output_type": "execute_result",
          "data": {
            "text/plain": [
              "1"
            ]
          },
          "metadata": {},
          "execution_count": 3
        }
      ]
    },
    {
      "cell_type": "code",
      "source": [
        "# Create tensor (default on CPU)\n",
        "tensor = torch.tensor([1, 2, 3])\n",
        "\n",
        "# Tensor not on GPU\n",
        "print(tensor, tensor.device)\n",
        "\n",
        "# Move tensor to GPU (if available)\n",
        "tensor_on_gpu = tensor.to(device)\n",
        "tensor_on_gpu"
      ],
      "metadata": {
        "colab": {
          "base_uri": "https://localhost:8080/"
        },
        "id": "QA44Uo1FBMk9",
        "outputId": "82bf2162-84d6-4d73-be0d-5f352248f5fa"
      },
      "execution_count": null,
      "outputs": [
        {
          "output_type": "stream",
          "name": "stdout",
          "text": [
            "tensor([1, 2, 3]) cpu\n"
          ]
        },
        {
          "output_type": "execute_result",
          "data": {
            "text/plain": [
              "tensor([1, 2, 3], device='cuda:0')"
            ]
          },
          "metadata": {},
          "execution_count": 4
        }
      ]
    },
    {
      "cell_type": "code",
      "source": [
        "# gpu tensor can't be converted in numpy array\n",
        "tensor_back_on_cpu = tensor_on_gpu.cpu().numpy()\n",
        "tensor_back_on_cpu"
      ],
      "metadata": {
        "colab": {
          "base_uri": "https://localhost:8080/"
        },
        "id": "grn4CrfrBV3d",
        "outputId": "ee106adb-5749-4b0f-a62d-1abdf663f03c"
      },
      "execution_count": null,
      "outputs": [
        {
          "output_type": "execute_result",
          "data": {
            "text/plain": [
              "array([1, 2, 3])"
            ]
          },
          "metadata": {},
          "execution_count": 5
        }
      ]
    },
    {
      "cell_type": "markdown",
      "source": [
        "\n",
        "The above returns a copy of the GPU tensor in CPU memory so the original tensor is still on GPU"
      ],
      "metadata": {
        "id": "46q4gi8OBe52"
      }
    },
    {
      "cell_type": "code",
      "source": [
        "tensor_on_gpu"
      ],
      "metadata": {
        "colab": {
          "base_uri": "https://localhost:8080/"
        },
        "id": "VXNPd6L_BhVT",
        "outputId": "bb2ebfff-5b88-43c6-a153-285d046d8e82"
      },
      "execution_count": null,
      "outputs": [
        {
          "output_type": "execute_result",
          "data": {
            "text/plain": [
              "tensor([1, 2, 3], device='cuda:0')"
            ]
          },
          "metadata": {},
          "execution_count": 6
        }
      ]
    },
    {
      "cell_type": "markdown",
      "source": [
        "--Shaahid Ahmed N"
      ],
      "metadata": {
        "id": "gFWUOAdlCX9k"
      }
    },
    {
      "cell_type": "markdown",
      "source": [
        "![1_JupRAYk4Q2xyEBWVV4SNyg.png](data:image/png;base64,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)"
      ],
      "metadata": {
        "id": "Rpc14ab6Br-D"
      }
    }
  ]
}