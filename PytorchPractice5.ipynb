{
  "nbformat": 4,
  "nbformat_minor": 0,
  "metadata": {
    "colab": {
      "provenance": [],
      "gpuType": "T4"
    },
    "kernelspec": {
      "name": "python3",
      "display_name": "Python 3"
    },
    "language_info": {
      "name": "python"
    },
    "accelerator": "GPU",
    "widgets": {
      "application/vnd.jupyter.widget-state+json": {
        "7da61107df634c6c8913bef18b78aa7e": {
          "model_module": "@jupyter-widgets/controls",
          "model_name": "HBoxModel",
          "model_module_version": "1.5.0",
          "state": {
            "_dom_classes": [],
            "_model_module": "@jupyter-widgets/controls",
            "_model_module_version": "1.5.0",
            "_model_name": "HBoxModel",
            "_view_count": null,
            "_view_module": "@jupyter-widgets/controls",
            "_view_module_version": "1.5.0",
            "_view_name": "HBoxView",
            "box_style": "",
            "children": [
              "IPY_MODEL_300fe69e91874f26ad22e1f73a7563d6",
              "IPY_MODEL_22e0ec40eece4d85ab2d6d1f585a4e59",
              "IPY_MODEL_9c4300df8ec74352a99148e41f99d64a"
            ],
            "layout": "IPY_MODEL_cb47bcdd43f64e90b9ab43692ae94cf3"
          }
        },
        "300fe69e91874f26ad22e1f73a7563d6": {
          "model_module": "@jupyter-widgets/controls",
          "model_name": "HTMLModel",
          "model_module_version": "1.5.0",
          "state": {
            "_dom_classes": [],
            "_model_module": "@jupyter-widgets/controls",
            "_model_module_version": "1.5.0",
            "_model_name": "HTMLModel",
            "_view_count": null,
            "_view_module": "@jupyter-widgets/controls",
            "_view_module_version": "1.5.0",
            "_view_name": "HTMLView",
            "description": "",
            "description_tooltip": null,
            "layout": "IPY_MODEL_7bbf9d3e944d40c2aa5f1a1185ac24b9",
            "placeholder": "​",
            "style": "IPY_MODEL_3f7f9ee435aa465d9045a83c0777cbb0",
            "value": "100%"
          }
        },
        "22e0ec40eece4d85ab2d6d1f585a4e59": {
          "model_module": "@jupyter-widgets/controls",
          "model_name": "FloatProgressModel",
          "model_module_version": "1.5.0",
          "state": {
            "_dom_classes": [],
            "_model_module": "@jupyter-widgets/controls",
            "_model_module_version": "1.5.0",
            "_model_name": "FloatProgressModel",
            "_view_count": null,
            "_view_module": "@jupyter-widgets/controls",
            "_view_module_version": "1.5.0",
            "_view_name": "ProgressView",
            "bar_style": "success",
            "description": "",
            "description_tooltip": null,
            "layout": "IPY_MODEL_972ab5b713764a818e291c748c3c0c67",
            "max": 3,
            "min": 0,
            "orientation": "horizontal",
            "style": "IPY_MODEL_7325e9c1475042139c175b0d73fe7bd4",
            "value": 3
          }
        },
        "9c4300df8ec74352a99148e41f99d64a": {
          "model_module": "@jupyter-widgets/controls",
          "model_name": "HTMLModel",
          "model_module_version": "1.5.0",
          "state": {
            "_dom_classes": [],
            "_model_module": "@jupyter-widgets/controls",
            "_model_module_version": "1.5.0",
            "_model_name": "HTMLModel",
            "_view_count": null,
            "_view_module": "@jupyter-widgets/controls",
            "_view_module_version": "1.5.0",
            "_view_name": "HTMLView",
            "description": "",
            "description_tooltip": null,
            "layout": "IPY_MODEL_7c36708f1e964ab7a44a8b5cd37b80fc",
            "placeholder": "​",
            "style": "IPY_MODEL_ee71b990633b44b7aa806b958e2b8354",
            "value": " 3/3 [00:28&lt;00:00,  9.37s/it]"
          }
        },
        "cb47bcdd43f64e90b9ab43692ae94cf3": {
          "model_module": "@jupyter-widgets/base",
          "model_name": "LayoutModel",
          "model_module_version": "1.2.0",
          "state": {
            "_model_module": "@jupyter-widgets/base",
            "_model_module_version": "1.2.0",
            "_model_name": "LayoutModel",
            "_view_count": null,
            "_view_module": "@jupyter-widgets/base",
            "_view_module_version": "1.2.0",
            "_view_name": "LayoutView",
            "align_content": null,
            "align_items": null,
            "align_self": null,
            "border": null,
            "bottom": null,
            "display": null,
            "flex": null,
            "flex_flow": null,
            "grid_area": null,
            "grid_auto_columns": null,
            "grid_auto_flow": null,
            "grid_auto_rows": null,
            "grid_column": null,
            "grid_gap": null,
            "grid_row": null,
            "grid_template_areas": null,
            "grid_template_columns": null,
            "grid_template_rows": null,
            "height": null,
            "justify_content": null,
            "justify_items": null,
            "left": null,
            "margin": null,
            "max_height": null,
            "max_width": null,
            "min_height": null,
            "min_width": null,
            "object_fit": null,
            "object_position": null,
            "order": null,
            "overflow": null,
            "overflow_x": null,
            "overflow_y": null,
            "padding": null,
            "right": null,
            "top": null,
            "visibility": null,
            "width": null
          }
        },
        "7bbf9d3e944d40c2aa5f1a1185ac24b9": {
          "model_module": "@jupyter-widgets/base",
          "model_name": "LayoutModel",
          "model_module_version": "1.2.0",
          "state": {
            "_model_module": "@jupyter-widgets/base",
            "_model_module_version": "1.2.0",
            "_model_name": "LayoutModel",
            "_view_count": null,
            "_view_module": "@jupyter-widgets/base",
            "_view_module_version": "1.2.0",
            "_view_name": "LayoutView",
            "align_content": null,
            "align_items": null,
            "align_self": null,
            "border": null,
            "bottom": null,
            "display": null,
            "flex": null,
            "flex_flow": null,
            "grid_area": null,
            "grid_auto_columns": null,
            "grid_auto_flow": null,
            "grid_auto_rows": null,
            "grid_column": null,
            "grid_gap": null,
            "grid_row": null,
            "grid_template_areas": null,
            "grid_template_columns": null,
            "grid_template_rows": null,
            "height": null,
            "justify_content": null,
            "justify_items": null,
            "left": null,
            "margin": null,
            "max_height": null,
            "max_width": null,
            "min_height": null,
            "min_width": null,
            "object_fit": null,
            "object_position": null,
            "order": null,
            "overflow": null,
            "overflow_x": null,
            "overflow_y": null,
            "padding": null,
            "right": null,
            "top": null,
            "visibility": null,
            "width": null
          }
        },
        "3f7f9ee435aa465d9045a83c0777cbb0": {
          "model_module": "@jupyter-widgets/controls",
          "model_name": "DescriptionStyleModel",
          "model_module_version": "1.5.0",
          "state": {
            "_model_module": "@jupyter-widgets/controls",
            "_model_module_version": "1.5.0",
            "_model_name": "DescriptionStyleModel",
            "_view_count": null,
            "_view_module": "@jupyter-widgets/base",
            "_view_module_version": "1.2.0",
            "_view_name": "StyleView",
            "description_width": ""
          }
        },
        "972ab5b713764a818e291c748c3c0c67": {
          "model_module": "@jupyter-widgets/base",
          "model_name": "LayoutModel",
          "model_module_version": "1.2.0",
          "state": {
            "_model_module": "@jupyter-widgets/base",
            "_model_module_version": "1.2.0",
            "_model_name": "LayoutModel",
            "_view_count": null,
            "_view_module": "@jupyter-widgets/base",
            "_view_module_version": "1.2.0",
            "_view_name": "LayoutView",
            "align_content": null,
            "align_items": null,
            "align_self": null,
            "border": null,
            "bottom": null,
            "display": null,
            "flex": null,
            "flex_flow": null,
            "grid_area": null,
            "grid_auto_columns": null,
            "grid_auto_flow": null,
            "grid_auto_rows": null,
            "grid_column": null,
            "grid_gap": null,
            "grid_row": null,
            "grid_template_areas": null,
            "grid_template_columns": null,
            "grid_template_rows": null,
            "height": null,
            "justify_content": null,
            "justify_items": null,
            "left": null,
            "margin": null,
            "max_height": null,
            "max_width": null,
            "min_height": null,
            "min_width": null,
            "object_fit": null,
            "object_position": null,
            "order": null,
            "overflow": null,
            "overflow_x": null,
            "overflow_y": null,
            "padding": null,
            "right": null,
            "top": null,
            "visibility": null,
            "width": null
          }
        },
        "7325e9c1475042139c175b0d73fe7bd4": {
          "model_module": "@jupyter-widgets/controls",
          "model_name": "ProgressStyleModel",
          "model_module_version": "1.5.0",
          "state": {
            "_model_module": "@jupyter-widgets/controls",
            "_model_module_version": "1.5.0",
            "_model_name": "ProgressStyleModel",
            "_view_count": null,
            "_view_module": "@jupyter-widgets/base",
            "_view_module_version": "1.2.0",
            "_view_name": "StyleView",
            "bar_color": null,
            "description_width": ""
          }
        },
        "7c36708f1e964ab7a44a8b5cd37b80fc": {
          "model_module": "@jupyter-widgets/base",
          "model_name": "LayoutModel",
          "model_module_version": "1.2.0",
          "state": {
            "_model_module": "@jupyter-widgets/base",
            "_model_module_version": "1.2.0",
            "_model_name": "LayoutModel",
            "_view_count": null,
            "_view_module": "@jupyter-widgets/base",
            "_view_module_version": "1.2.0",
            "_view_name": "LayoutView",
            "align_content": null,
            "align_items": null,
            "align_self": null,
            "border": null,
            "bottom": null,
            "display": null,
            "flex": null,
            "flex_flow": null,
            "grid_area": null,
            "grid_auto_columns": null,
            "grid_auto_flow": null,
            "grid_auto_rows": null,
            "grid_column": null,
            "grid_gap": null,
            "grid_row": null,
            "grid_template_areas": null,
            "grid_template_columns": null,
            "grid_template_rows": null,
            "height": null,
            "justify_content": null,
            "justify_items": null,
            "left": null,
            "margin": null,
            "max_height": null,
            "max_width": null,
            "min_height": null,
            "min_width": null,
            "object_fit": null,
            "object_position": null,
            "order": null,
            "overflow": null,
            "overflow_x": null,
            "overflow_y": null,
            "padding": null,
            "right": null,
            "top": null,
            "visibility": null,
            "width": null
          }
        },
        "ee71b990633b44b7aa806b958e2b8354": {
          "model_module": "@jupyter-widgets/controls",
          "model_name": "DescriptionStyleModel",
          "model_module_version": "1.5.0",
          "state": {
            "_model_module": "@jupyter-widgets/controls",
            "_model_module_version": "1.5.0",
            "_model_name": "DescriptionStyleModel",
            "_view_count": null,
            "_view_module": "@jupyter-widgets/base",
            "_view_module_version": "1.2.0",
            "_view_name": "StyleView",
            "description_width": ""
          }
        },
        "ed4d31d71d824872a340f5cd3464fed3": {
          "model_module": "@jupyter-widgets/controls",
          "model_name": "HBoxModel",
          "model_module_version": "1.5.0",
          "state": {
            "_dom_classes": [],
            "_model_module": "@jupyter-widgets/controls",
            "_model_module_version": "1.5.0",
            "_model_name": "HBoxModel",
            "_view_count": null,
            "_view_module": "@jupyter-widgets/controls",
            "_view_module_version": "1.5.0",
            "_view_name": "HBoxView",
            "box_style": "",
            "children": [
              "IPY_MODEL_e978a5f590264d2f929273956a573160",
              "IPY_MODEL_334343154d1840e5b64f6e197d382225",
              "IPY_MODEL_6f47547a1a5c450982b7b2663c723235"
            ],
            "layout": "IPY_MODEL_235469641040475eb831d0ec8ef76ecf"
          }
        },
        "e978a5f590264d2f929273956a573160": {
          "model_module": "@jupyter-widgets/controls",
          "model_name": "HTMLModel",
          "model_module_version": "1.5.0",
          "state": {
            "_dom_classes": [],
            "_model_module": "@jupyter-widgets/controls",
            "_model_module_version": "1.5.0",
            "_model_name": "HTMLModel",
            "_view_count": null,
            "_view_module": "@jupyter-widgets/controls",
            "_view_module_version": "1.5.0",
            "_view_name": "HTMLView",
            "description": "",
            "description_tooltip": null,
            "layout": "IPY_MODEL_ec16739914a2470eb22961aa75fd40f2",
            "placeholder": "​",
            "style": "IPY_MODEL_1616248ccd0a4ba6a56ef28c4525fd12",
            "value": "100%"
          }
        },
        "334343154d1840e5b64f6e197d382225": {
          "model_module": "@jupyter-widgets/controls",
          "model_name": "FloatProgressModel",
          "model_module_version": "1.5.0",
          "state": {
            "_dom_classes": [],
            "_model_module": "@jupyter-widgets/controls",
            "_model_module_version": "1.5.0",
            "_model_name": "FloatProgressModel",
            "_view_count": null,
            "_view_module": "@jupyter-widgets/controls",
            "_view_module_version": "1.5.0",
            "_view_name": "ProgressView",
            "bar_style": "success",
            "description": "",
            "description_tooltip": null,
            "layout": "IPY_MODEL_b1cec658262e467781714d2302a0dd54",
            "max": 3,
            "min": 0,
            "orientation": "horizontal",
            "style": "IPY_MODEL_86f06d2b9f8a45b292e09088f4ddfaee",
            "value": 3
          }
        },
        "6f47547a1a5c450982b7b2663c723235": {
          "model_module": "@jupyter-widgets/controls",
          "model_name": "HTMLModel",
          "model_module_version": "1.5.0",
          "state": {
            "_dom_classes": [],
            "_model_module": "@jupyter-widgets/controls",
            "_model_module_version": "1.5.0",
            "_model_name": "HTMLModel",
            "_view_count": null,
            "_view_module": "@jupyter-widgets/controls",
            "_view_module_version": "1.5.0",
            "_view_name": "HTMLView",
            "description": "",
            "description_tooltip": null,
            "layout": "IPY_MODEL_6aca5d188b5b49b2b6847ad5b883cf72",
            "placeholder": "​",
            "style": "IPY_MODEL_5c278993793e4867ad1942de0325eb3a",
            "value": " 3/3 [00:33&lt;00:00, 10.86s/it]"
          }
        },
        "235469641040475eb831d0ec8ef76ecf": {
          "model_module": "@jupyter-widgets/base",
          "model_name": "LayoutModel",
          "model_module_version": "1.2.0",
          "state": {
            "_model_module": "@jupyter-widgets/base",
            "_model_module_version": "1.2.0",
            "_model_name": "LayoutModel",
            "_view_count": null,
            "_view_module": "@jupyter-widgets/base",
            "_view_module_version": "1.2.0",
            "_view_name": "LayoutView",
            "align_content": null,
            "align_items": null,
            "align_self": null,
            "border": null,
            "bottom": null,
            "display": null,
            "flex": null,
            "flex_flow": null,
            "grid_area": null,
            "grid_auto_columns": null,
            "grid_auto_flow": null,
            "grid_auto_rows": null,
            "grid_column": null,
            "grid_gap": null,
            "grid_row": null,
            "grid_template_areas": null,
            "grid_template_columns": null,
            "grid_template_rows": null,
            "height": null,
            "justify_content": null,
            "justify_items": null,
            "left": null,
            "margin": null,
            "max_height": null,
            "max_width": null,
            "min_height": null,
            "min_width": null,
            "object_fit": null,
            "object_position": null,
            "order": null,
            "overflow": null,
            "overflow_x": null,
            "overflow_y": null,
            "padding": null,
            "right": null,
            "top": null,
            "visibility": null,
            "width": null
          }
        },
        "ec16739914a2470eb22961aa75fd40f2": {
          "model_module": "@jupyter-widgets/base",
          "model_name": "LayoutModel",
          "model_module_version": "1.2.0",
          "state": {
            "_model_module": "@jupyter-widgets/base",
            "_model_module_version": "1.2.0",
            "_model_name": "LayoutModel",
            "_view_count": null,
            "_view_module": "@jupyter-widgets/base",
            "_view_module_version": "1.2.0",
            "_view_name": "LayoutView",
            "align_content": null,
            "align_items": null,
            "align_self": null,
            "border": null,
            "bottom": null,
            "display": null,
            "flex": null,
            "flex_flow": null,
            "grid_area": null,
            "grid_auto_columns": null,
            "grid_auto_flow": null,
            "grid_auto_rows": null,
            "grid_column": null,
            "grid_gap": null,
            "grid_row": null,
            "grid_template_areas": null,
            "grid_template_columns": null,
            "grid_template_rows": null,
            "height": null,
            "justify_content": null,
            "justify_items": null,
            "left": null,
            "margin": null,
            "max_height": null,
            "max_width": null,
            "min_height": null,
            "min_width": null,
            "object_fit": null,
            "object_position": null,
            "order": null,
            "overflow": null,
            "overflow_x": null,
            "overflow_y": null,
            "padding": null,
            "right": null,
            "top": null,
            "visibility": null,
            "width": null
          }
        },
        "1616248ccd0a4ba6a56ef28c4525fd12": {
          "model_module": "@jupyter-widgets/controls",
          "model_name": "DescriptionStyleModel",
          "model_module_version": "1.5.0",
          "state": {
            "_model_module": "@jupyter-widgets/controls",
            "_model_module_version": "1.5.0",
            "_model_name": "DescriptionStyleModel",
            "_view_count": null,
            "_view_module": "@jupyter-widgets/base",
            "_view_module_version": "1.2.0",
            "_view_name": "StyleView",
            "description_width": ""
          }
        },
        "b1cec658262e467781714d2302a0dd54": {
          "model_module": "@jupyter-widgets/base",
          "model_name": "LayoutModel",
          "model_module_version": "1.2.0",
          "state": {
            "_model_module": "@jupyter-widgets/base",
            "_model_module_version": "1.2.0",
            "_model_name": "LayoutModel",
            "_view_count": null,
            "_view_module": "@jupyter-widgets/base",
            "_view_module_version": "1.2.0",
            "_view_name": "LayoutView",
            "align_content": null,
            "align_items": null,
            "align_self": null,
            "border": null,
            "bottom": null,
            "display": null,
            "flex": null,
            "flex_flow": null,
            "grid_area": null,
            "grid_auto_columns": null,
            "grid_auto_flow": null,
            "grid_auto_rows": null,
            "grid_column": null,
            "grid_gap": null,
            "grid_row": null,
            "grid_template_areas": null,
            "grid_template_columns": null,
            "grid_template_rows": null,
            "height": null,
            "justify_content": null,
            "justify_items": null,
            "left": null,
            "margin": null,
            "max_height": null,
            "max_width": null,
            "min_height": null,
            "min_width": null,
            "object_fit": null,
            "object_position": null,
            "order": null,
            "overflow": null,
            "overflow_x": null,
            "overflow_y": null,
            "padding": null,
            "right": null,
            "top": null,
            "visibility": null,
            "width": null
          }
        },
        "86f06d2b9f8a45b292e09088f4ddfaee": {
          "model_module": "@jupyter-widgets/controls",
          "model_name": "ProgressStyleModel",
          "model_module_version": "1.5.0",
          "state": {
            "_model_module": "@jupyter-widgets/controls",
            "_model_module_version": "1.5.0",
            "_model_name": "ProgressStyleModel",
            "_view_count": null,
            "_view_module": "@jupyter-widgets/base",
            "_view_module_version": "1.2.0",
            "_view_name": "StyleView",
            "bar_color": null,
            "description_width": ""
          }
        },
        "6aca5d188b5b49b2b6847ad5b883cf72": {
          "model_module": "@jupyter-widgets/base",
          "model_name": "LayoutModel",
          "model_module_version": "1.2.0",
          "state": {
            "_model_module": "@jupyter-widgets/base",
            "_model_module_version": "1.2.0",
            "_model_name": "LayoutModel",
            "_view_count": null,
            "_view_module": "@jupyter-widgets/base",
            "_view_module_version": "1.2.0",
            "_view_name": "LayoutView",
            "align_content": null,
            "align_items": null,
            "align_self": null,
            "border": null,
            "bottom": null,
            "display": null,
            "flex": null,
            "flex_flow": null,
            "grid_area": null,
            "grid_auto_columns": null,
            "grid_auto_flow": null,
            "grid_auto_rows": null,
            "grid_column": null,
            "grid_gap": null,
            "grid_row": null,
            "grid_template_areas": null,
            "grid_template_columns": null,
            "grid_template_rows": null,
            "height": null,
            "justify_content": null,
            "justify_items": null,
            "left": null,
            "margin": null,
            "max_height": null,
            "max_width": null,
            "min_height": null,
            "min_width": null,
            "object_fit": null,
            "object_position": null,
            "order": null,
            "overflow": null,
            "overflow_x": null,
            "overflow_y": null,
            "padding": null,
            "right": null,
            "top": null,
            "visibility": null,
            "width": null
          }
        },
        "5c278993793e4867ad1942de0325eb3a": {
          "model_module": "@jupyter-widgets/controls",
          "model_name": "DescriptionStyleModel",
          "model_module_version": "1.5.0",
          "state": {
            "_model_module": "@jupyter-widgets/controls",
            "_model_module_version": "1.5.0",
            "_model_name": "DescriptionStyleModel",
            "_view_count": null,
            "_view_module": "@jupyter-widgets/base",
            "_view_module_version": "1.2.0",
            "_view_name": "StyleView",
            "description_width": ""
          }
        },
        "7448bec051894221b96cdc987eb88f05": {
          "model_module": "@jupyter-widgets/controls",
          "model_name": "HBoxModel",
          "model_module_version": "1.5.0",
          "state": {
            "_dom_classes": [],
            "_model_module": "@jupyter-widgets/controls",
            "_model_module_version": "1.5.0",
            "_model_name": "HBoxModel",
            "_view_count": null,
            "_view_module": "@jupyter-widgets/controls",
            "_view_module_version": "1.5.0",
            "_view_name": "HBoxView",
            "box_style": "",
            "children": [
              "IPY_MODEL_1817587f43c54490919df78690215f25",
              "IPY_MODEL_54a9214999d5481ca807d7dfa0674f57",
              "IPY_MODEL_b694e946ffc842d4af2f41412db1a16f"
            ],
            "layout": "IPY_MODEL_2e444cb25de34f4f9be2074509cdf207"
          }
        },
        "1817587f43c54490919df78690215f25": {
          "model_module": "@jupyter-widgets/controls",
          "model_name": "HTMLModel",
          "model_module_version": "1.5.0",
          "state": {
            "_dom_classes": [],
            "_model_module": "@jupyter-widgets/controls",
            "_model_module_version": "1.5.0",
            "_model_name": "HTMLModel",
            "_view_count": null,
            "_view_module": "@jupyter-widgets/controls",
            "_view_module_version": "1.5.0",
            "_view_name": "HTMLView",
            "description": "",
            "description_tooltip": null,
            "layout": "IPY_MODEL_ab13c29db6d8459ea11e8688e61c1cef",
            "placeholder": "​",
            "style": "IPY_MODEL_75f7809f6aa5416b8f638b630fb41fde",
            "value": "100%"
          }
        },
        "54a9214999d5481ca807d7dfa0674f57": {
          "model_module": "@jupyter-widgets/controls",
          "model_name": "FloatProgressModel",
          "model_module_version": "1.5.0",
          "state": {
            "_dom_classes": [],
            "_model_module": "@jupyter-widgets/controls",
            "_model_module_version": "1.5.0",
            "_model_name": "FloatProgressModel",
            "_view_count": null,
            "_view_module": "@jupyter-widgets/controls",
            "_view_module_version": "1.5.0",
            "_view_name": "ProgressView",
            "bar_style": "success",
            "description": "",
            "description_tooltip": null,
            "layout": "IPY_MODEL_36f9024088a147b884570e0877a79fba",
            "max": 3,
            "min": 0,
            "orientation": "horizontal",
            "style": "IPY_MODEL_099db59fa7e8461f83278d56e6681d66",
            "value": 3
          }
        },
        "b694e946ffc842d4af2f41412db1a16f": {
          "model_module": "@jupyter-widgets/controls",
          "model_name": "HTMLModel",
          "model_module_version": "1.5.0",
          "state": {
            "_dom_classes": [],
            "_model_module": "@jupyter-widgets/controls",
            "_model_module_version": "1.5.0",
            "_model_name": "HTMLModel",
            "_view_count": null,
            "_view_module": "@jupyter-widgets/controls",
            "_view_module_version": "1.5.0",
            "_view_name": "HTMLView",
            "description": "",
            "description_tooltip": null,
            "layout": "IPY_MODEL_fd9ae63cea7d4b1ebc16059f814ca998",
            "placeholder": "​",
            "style": "IPY_MODEL_a69553ab06864856b43c1cccf9fdef63",
            "value": " 3/3 [00:42&lt;00:00, 13.65s/it]"
          }
        },
        "2e444cb25de34f4f9be2074509cdf207": {
          "model_module": "@jupyter-widgets/base",
          "model_name": "LayoutModel",
          "model_module_version": "1.2.0",
          "state": {
            "_model_module": "@jupyter-widgets/base",
            "_model_module_version": "1.2.0",
            "_model_name": "LayoutModel",
            "_view_count": null,
            "_view_module": "@jupyter-widgets/base",
            "_view_module_version": "1.2.0",
            "_view_name": "LayoutView",
            "align_content": null,
            "align_items": null,
            "align_self": null,
            "border": null,
            "bottom": null,
            "display": null,
            "flex": null,
            "flex_flow": null,
            "grid_area": null,
            "grid_auto_columns": null,
            "grid_auto_flow": null,
            "grid_auto_rows": null,
            "grid_column": null,
            "grid_gap": null,
            "grid_row": null,
            "grid_template_areas": null,
            "grid_template_columns": null,
            "grid_template_rows": null,
            "height": null,
            "justify_content": null,
            "justify_items": null,
            "left": null,
            "margin": null,
            "max_height": null,
            "max_width": null,
            "min_height": null,
            "min_width": null,
            "object_fit": null,
            "object_position": null,
            "order": null,
            "overflow": null,
            "overflow_x": null,
            "overflow_y": null,
            "padding": null,
            "right": null,
            "top": null,
            "visibility": null,
            "width": null
          }
        },
        "ab13c29db6d8459ea11e8688e61c1cef": {
          "model_module": "@jupyter-widgets/base",
          "model_name": "LayoutModel",
          "model_module_version": "1.2.0",
          "state": {
            "_model_module": "@jupyter-widgets/base",
            "_model_module_version": "1.2.0",
            "_model_name": "LayoutModel",
            "_view_count": null,
            "_view_module": "@jupyter-widgets/base",
            "_view_module_version": "1.2.0",
            "_view_name": "LayoutView",
            "align_content": null,
            "align_items": null,
            "align_self": null,
            "border": null,
            "bottom": null,
            "display": null,
            "flex": null,
            "flex_flow": null,
            "grid_area": null,
            "grid_auto_columns": null,
            "grid_auto_flow": null,
            "grid_auto_rows": null,
            "grid_column": null,
            "grid_gap": null,
            "grid_row": null,
            "grid_template_areas": null,
            "grid_template_columns": null,
            "grid_template_rows": null,
            "height": null,
            "justify_content": null,
            "justify_items": null,
            "left": null,
            "margin": null,
            "max_height": null,
            "max_width": null,
            "min_height": null,
            "min_width": null,
            "object_fit": null,
            "object_position": null,
            "order": null,
            "overflow": null,
            "overflow_x": null,
            "overflow_y": null,
            "padding": null,
            "right": null,
            "top": null,
            "visibility": null,
            "width": null
          }
        },
        "75f7809f6aa5416b8f638b630fb41fde": {
          "model_module": "@jupyter-widgets/controls",
          "model_name": "DescriptionStyleModel",
          "model_module_version": "1.5.0",
          "state": {
            "_model_module": "@jupyter-widgets/controls",
            "_model_module_version": "1.5.0",
            "_model_name": "DescriptionStyleModel",
            "_view_count": null,
            "_view_module": "@jupyter-widgets/base",
            "_view_module_version": "1.2.0",
            "_view_name": "StyleView",
            "description_width": ""
          }
        },
        "36f9024088a147b884570e0877a79fba": {
          "model_module": "@jupyter-widgets/base",
          "model_name": "LayoutModel",
          "model_module_version": "1.2.0",
          "state": {
            "_model_module": "@jupyter-widgets/base",
            "_model_module_version": "1.2.0",
            "_model_name": "LayoutModel",
            "_view_count": null,
            "_view_module": "@jupyter-widgets/base",
            "_view_module_version": "1.2.0",
            "_view_name": "LayoutView",
            "align_content": null,
            "align_items": null,
            "align_self": null,
            "border": null,
            "bottom": null,
            "display": null,
            "flex": null,
            "flex_flow": null,
            "grid_area": null,
            "grid_auto_columns": null,
            "grid_auto_flow": null,
            "grid_auto_rows": null,
            "grid_column": null,
            "grid_gap": null,
            "grid_row": null,
            "grid_template_areas": null,
            "grid_template_columns": null,
            "grid_template_rows": null,
            "height": null,
            "justify_content": null,
            "justify_items": null,
            "left": null,
            "margin": null,
            "max_height": null,
            "max_width": null,
            "min_height": null,
            "min_width": null,
            "object_fit": null,
            "object_position": null,
            "order": null,
            "overflow": null,
            "overflow_x": null,
            "overflow_y": null,
            "padding": null,
            "right": null,
            "top": null,
            "visibility": null,
            "width": null
          }
        },
        "099db59fa7e8461f83278d56e6681d66": {
          "model_module": "@jupyter-widgets/controls",
          "model_name": "ProgressStyleModel",
          "model_module_version": "1.5.0",
          "state": {
            "_model_module": "@jupyter-widgets/controls",
            "_model_module_version": "1.5.0",
            "_model_name": "ProgressStyleModel",
            "_view_count": null,
            "_view_module": "@jupyter-widgets/base",
            "_view_module_version": "1.2.0",
            "_view_name": "StyleView",
            "bar_color": null,
            "description_width": ""
          }
        },
        "fd9ae63cea7d4b1ebc16059f814ca998": {
          "model_module": "@jupyter-widgets/base",
          "model_name": "LayoutModel",
          "model_module_version": "1.2.0",
          "state": {
            "_model_module": "@jupyter-widgets/base",
            "_model_module_version": "1.2.0",
            "_model_name": "LayoutModel",
            "_view_count": null,
            "_view_module": "@jupyter-widgets/base",
            "_view_module_version": "1.2.0",
            "_view_name": "LayoutView",
            "align_content": null,
            "align_items": null,
            "align_self": null,
            "border": null,
            "bottom": null,
            "display": null,
            "flex": null,
            "flex_flow": null,
            "grid_area": null,
            "grid_auto_columns": null,
            "grid_auto_flow": null,
            "grid_auto_rows": null,
            "grid_column": null,
            "grid_gap": null,
            "grid_row": null,
            "grid_template_areas": null,
            "grid_template_columns": null,
            "grid_template_rows": null,
            "height": null,
            "justify_content": null,
            "justify_items": null,
            "left": null,
            "margin": null,
            "max_height": null,
            "max_width": null,
            "min_height": null,
            "min_width": null,
            "object_fit": null,
            "object_position": null,
            "order": null,
            "overflow": null,
            "overflow_x": null,
            "overflow_y": null,
            "padding": null,
            "right": null,
            "top": null,
            "visibility": null,
            "width": null
          }
        },
        "a69553ab06864856b43c1cccf9fdef63": {
          "model_module": "@jupyter-widgets/controls",
          "model_name": "DescriptionStyleModel",
          "model_module_version": "1.5.0",
          "state": {
            "_model_module": "@jupyter-widgets/controls",
            "_model_module_version": "1.5.0",
            "_model_name": "DescriptionStyleModel",
            "_view_count": null,
            "_view_module": "@jupyter-widgets/base",
            "_view_module_version": "1.2.0",
            "_view_name": "StyleView",
            "description_width": ""
          }
        },
        "df91bfd719bd434e93e11079c10811cf": {
          "model_module": "@jupyter-widgets/controls",
          "model_name": "HBoxModel",
          "model_module_version": "1.5.0",
          "state": {
            "_dom_classes": [],
            "_model_module": "@jupyter-widgets/controls",
            "_model_module_version": "1.5.0",
            "_model_name": "HBoxModel",
            "_view_count": null,
            "_view_module": "@jupyter-widgets/controls",
            "_view_module_version": "1.5.0",
            "_view_name": "HBoxView",
            "box_style": "",
            "children": [
              "IPY_MODEL_f14091ef8c134a328bb4ee566bb32476",
              "IPY_MODEL_74b9ceb05ce0466699857826004dd1b1",
              "IPY_MODEL_d4d5c03c8abe4ed0be33b9abef04bea0"
            ],
            "layout": "IPY_MODEL_44270b86846a45dea5a2c103187faa57"
          }
        },
        "f14091ef8c134a328bb4ee566bb32476": {
          "model_module": "@jupyter-widgets/controls",
          "model_name": "HTMLModel",
          "model_module_version": "1.5.0",
          "state": {
            "_dom_classes": [],
            "_model_module": "@jupyter-widgets/controls",
            "_model_module_version": "1.5.0",
            "_model_name": "HTMLModel",
            "_view_count": null,
            "_view_module": "@jupyter-widgets/controls",
            "_view_module_version": "1.5.0",
            "_view_name": "HTMLView",
            "description": "",
            "description_tooltip": null,
            "layout": "IPY_MODEL_eadc8d4d2da14011902ff10f9e7be615",
            "placeholder": "​",
            "style": "IPY_MODEL_9ae8db00179544d488b77afef3a5422d",
            "value": "Making predictions: 100%"
          }
        },
        "74b9ceb05ce0466699857826004dd1b1": {
          "model_module": "@jupyter-widgets/controls",
          "model_name": "FloatProgressModel",
          "model_module_version": "1.5.0",
          "state": {
            "_dom_classes": [],
            "_model_module": "@jupyter-widgets/controls",
            "_model_module_version": "1.5.0",
            "_model_name": "FloatProgressModel",
            "_view_count": null,
            "_view_module": "@jupyter-widgets/controls",
            "_view_module_version": "1.5.0",
            "_view_name": "ProgressView",
            "bar_style": "success",
            "description": "",
            "description_tooltip": null,
            "layout": "IPY_MODEL_2d501ca6b98341cfbcf2d75bd7d8aa89",
            "max": 313,
            "min": 0,
            "orientation": "horizontal",
            "style": "IPY_MODEL_b7d09534925f44288881693d0a2864cc",
            "value": 313
          }
        },
        "d4d5c03c8abe4ed0be33b9abef04bea0": {
          "model_module": "@jupyter-widgets/controls",
          "model_name": "HTMLModel",
          "model_module_version": "1.5.0",
          "state": {
            "_dom_classes": [],
            "_model_module": "@jupyter-widgets/controls",
            "_model_module_version": "1.5.0",
            "_model_name": "HTMLModel",
            "_view_count": null,
            "_view_module": "@jupyter-widgets/controls",
            "_view_module_version": "1.5.0",
            "_view_name": "HTMLView",
            "description": "",
            "description_tooltip": null,
            "layout": "IPY_MODEL_067571a30cdb4f4fb712abbc04e7968c",
            "placeholder": "​",
            "style": "IPY_MODEL_2c60cf0a2b8c486aa6e6931866689667",
            "value": " 313/313 [00:01&lt;00:00, 246.24it/s]"
          }
        },
        "44270b86846a45dea5a2c103187faa57": {
          "model_module": "@jupyter-widgets/base",
          "model_name": "LayoutModel",
          "model_module_version": "1.2.0",
          "state": {
            "_model_module": "@jupyter-widgets/base",
            "_model_module_version": "1.2.0",
            "_model_name": "LayoutModel",
            "_view_count": null,
            "_view_module": "@jupyter-widgets/base",
            "_view_module_version": "1.2.0",
            "_view_name": "LayoutView",
            "align_content": null,
            "align_items": null,
            "align_self": null,
            "border": null,
            "bottom": null,
            "display": null,
            "flex": null,
            "flex_flow": null,
            "grid_area": null,
            "grid_auto_columns": null,
            "grid_auto_flow": null,
            "grid_auto_rows": null,
            "grid_column": null,
            "grid_gap": null,
            "grid_row": null,
            "grid_template_areas": null,
            "grid_template_columns": null,
            "grid_template_rows": null,
            "height": null,
            "justify_content": null,
            "justify_items": null,
            "left": null,
            "margin": null,
            "max_height": null,
            "max_width": null,
            "min_height": null,
            "min_width": null,
            "object_fit": null,
            "object_position": null,
            "order": null,
            "overflow": null,
            "overflow_x": null,
            "overflow_y": null,
            "padding": null,
            "right": null,
            "top": null,
            "visibility": null,
            "width": null
          }
        },
        "eadc8d4d2da14011902ff10f9e7be615": {
          "model_module": "@jupyter-widgets/base",
          "model_name": "LayoutModel",
          "model_module_version": "1.2.0",
          "state": {
            "_model_module": "@jupyter-widgets/base",
            "_model_module_version": "1.2.0",
            "_model_name": "LayoutModel",
            "_view_count": null,
            "_view_module": "@jupyter-widgets/base",
            "_view_module_version": "1.2.0",
            "_view_name": "LayoutView",
            "align_content": null,
            "align_items": null,
            "align_self": null,
            "border": null,
            "bottom": null,
            "display": null,
            "flex": null,
            "flex_flow": null,
            "grid_area": null,
            "grid_auto_columns": null,
            "grid_auto_flow": null,
            "grid_auto_rows": null,
            "grid_column": null,
            "grid_gap": null,
            "grid_row": null,
            "grid_template_areas": null,
            "grid_template_columns": null,
            "grid_template_rows": null,
            "height": null,
            "justify_content": null,
            "justify_items": null,
            "left": null,
            "margin": null,
            "max_height": null,
            "max_width": null,
            "min_height": null,
            "min_width": null,
            "object_fit": null,
            "object_position": null,
            "order": null,
            "overflow": null,
            "overflow_x": null,
            "overflow_y": null,
            "padding": null,
            "right": null,
            "top": null,
            "visibility": null,
            "width": null
          }
        },
        "9ae8db00179544d488b77afef3a5422d": {
          "model_module": "@jupyter-widgets/controls",
          "model_name": "DescriptionStyleModel",
          "model_module_version": "1.5.0",
          "state": {
            "_model_module": "@jupyter-widgets/controls",
            "_model_module_version": "1.5.0",
            "_model_name": "DescriptionStyleModel",
            "_view_count": null,
            "_view_module": "@jupyter-widgets/base",
            "_view_module_version": "1.2.0",
            "_view_name": "StyleView",
            "description_width": ""
          }
        },
        "2d501ca6b98341cfbcf2d75bd7d8aa89": {
          "model_module": "@jupyter-widgets/base",
          "model_name": "LayoutModel",
          "model_module_version": "1.2.0",
          "state": {
            "_model_module": "@jupyter-widgets/base",
            "_model_module_version": "1.2.0",
            "_model_name": "LayoutModel",
            "_view_count": null,
            "_view_module": "@jupyter-widgets/base",
            "_view_module_version": "1.2.0",
            "_view_name": "LayoutView",
            "align_content": null,
            "align_items": null,
            "align_self": null,
            "border": null,
            "bottom": null,
            "display": null,
            "flex": null,
            "flex_flow": null,
            "grid_area": null,
            "grid_auto_columns": null,
            "grid_auto_flow": null,
            "grid_auto_rows": null,
            "grid_column": null,
            "grid_gap": null,
            "grid_row": null,
            "grid_template_areas": null,
            "grid_template_columns": null,
            "grid_template_rows": null,
            "height": null,
            "justify_content": null,
            "justify_items": null,
            "left": null,
            "margin": null,
            "max_height": null,
            "max_width": null,
            "min_height": null,
            "min_width": null,
            "object_fit": null,
            "object_position": null,
            "order": null,
            "overflow": null,
            "overflow_x": null,
            "overflow_y": null,
            "padding": null,
            "right": null,
            "top": null,
            "visibility": null,
            "width": null
          }
        },
        "b7d09534925f44288881693d0a2864cc": {
          "model_module": "@jupyter-widgets/controls",
          "model_name": "ProgressStyleModel",
          "model_module_version": "1.5.0",
          "state": {
            "_model_module": "@jupyter-widgets/controls",
            "_model_module_version": "1.5.0",
            "_model_name": "ProgressStyleModel",
            "_view_count": null,
            "_view_module": "@jupyter-widgets/base",
            "_view_module_version": "1.2.0",
            "_view_name": "StyleView",
            "bar_color": null,
            "description_width": ""
          }
        },
        "067571a30cdb4f4fb712abbc04e7968c": {
          "model_module": "@jupyter-widgets/base",
          "model_name": "LayoutModel",
          "model_module_version": "1.2.0",
          "state": {
            "_model_module": "@jupyter-widgets/base",
            "_model_module_version": "1.2.0",
            "_model_name": "LayoutModel",
            "_view_count": null,
            "_view_module": "@jupyter-widgets/base",
            "_view_module_version": "1.2.0",
            "_view_name": "LayoutView",
            "align_content": null,
            "align_items": null,
            "align_self": null,
            "border": null,
            "bottom": null,
            "display": null,
            "flex": null,
            "flex_flow": null,
            "grid_area": null,
            "grid_auto_columns": null,
            "grid_auto_flow": null,
            "grid_auto_rows": null,
            "grid_column": null,
            "grid_gap": null,
            "grid_row": null,
            "grid_template_areas": null,
            "grid_template_columns": null,
            "grid_template_rows": null,
            "height": null,
            "justify_content": null,
            "justify_items": null,
            "left": null,
            "margin": null,
            "max_height": null,
            "max_width": null,
            "min_height": null,
            "min_width": null,
            "object_fit": null,
            "object_position": null,
            "order": null,
            "overflow": null,
            "overflow_x": null,
            "overflow_y": null,
            "padding": null,
            "right": null,
            "top": null,
            "visibility": null,
            "width": null
          }
        },
        "2c60cf0a2b8c486aa6e6931866689667": {
          "model_module": "@jupyter-widgets/controls",
          "model_name": "DescriptionStyleModel",
          "model_module_version": "1.5.0",
          "state": {
            "_model_module": "@jupyter-widgets/controls",
            "_model_module_version": "1.5.0",
            "_model_name": "DescriptionStyleModel",
            "_view_count": null,
            "_view_module": "@jupyter-widgets/base",
            "_view_module_version": "1.2.0",
            "_view_name": "StyleView",
            "description_width": ""
          }
        }
      }
    }
  },
  "cells": [
    {
      "cell_type": "code",
      "execution_count": null,
      "metadata": {
        "colab": {
          "base_uri": "https://localhost:8080/"
        },
        "id": "LC7EWPRET3f6",
        "outputId": "408fe3a7-0f26-4790-f4c8-9419490d2628"
      },
      "outputs": [
        {
          "output_type": "stream",
          "name": "stdout",
          "text": [
            "PyTorch version: 2.1.0+cu118\n",
            "torchvision version: 0.16.0+cu118\n"
          ]
        }
      ],
      "source": [
        "# Import PyTorch\n",
        "import torch\n",
        "from torch import nn\n",
        "\n",
        "# Import torchvision\n",
        "import torchvision\n",
        "from torchvision import datasets\n",
        "from torchvision.transforms import ToTensor\n",
        "\n",
        "# Import matplotlib for visualization\n",
        "import matplotlib.pyplot as plt\n",
        "\n",
        "# Check versions\n",
        "# Note: your PyTorch version shouldn't be lower than 1.10.0 and torchvision version shouldn't be lower than 0.11\n",
        "print(f\"PyTorch version: {torch.__version__}\\ntorchvision version: {torchvision.__version__}\")"
      ]
    },
    {
      "cell_type": "markdown",
      "source": [
        "###Getting a dataset (MNIST)"
      ],
      "metadata": {
        "id": "nEWkQzWh1mAu"
      }
    },
    {
      "cell_type": "code",
      "source": [
        "#Setup training data\n",
        "train_data = datasets.FashionMNIST(root = \"data\",train = True,download = True, transform = ToTensor(), target_transform=None)\n",
        "test_data = datasets.FashionMNIST(root = \"data\",train = False,download = True, transform = ToTensor())\n"
      ],
      "metadata": {
        "colab": {
          "base_uri": "https://localhost:8080/"
        },
        "id": "iR_ak4HA1xhd",
        "outputId": "f430a513-1d24-4715-9952-1f76ae1e8a7d"
      },
      "execution_count": null,
      "outputs": [
        {
          "output_type": "stream",
          "name": "stdout",
          "text": [
            "Downloading http://fashion-mnist.s3-website.eu-central-1.amazonaws.com/train-images-idx3-ubyte.gz\n",
            "Downloading http://fashion-mnist.s3-website.eu-central-1.amazonaws.com/train-images-idx3-ubyte.gz to data/FashionMNIST/raw/train-images-idx3-ubyte.gz\n"
          ]
        },
        {
          "output_type": "stream",
          "name": "stderr",
          "text": [
            "100%|██████████| 26421880/26421880 [00:01<00:00, 18191684.78it/s]\n"
          ]
        },
        {
          "output_type": "stream",
          "name": "stdout",
          "text": [
            "Extracting data/FashionMNIST/raw/train-images-idx3-ubyte.gz to data/FashionMNIST/raw\n",
            "\n",
            "Downloading http://fashion-mnist.s3-website.eu-central-1.amazonaws.com/train-labels-idx1-ubyte.gz\n",
            "Downloading http://fashion-mnist.s3-website.eu-central-1.amazonaws.com/train-labels-idx1-ubyte.gz to data/FashionMNIST/raw/train-labels-idx1-ubyte.gz\n"
          ]
        },
        {
          "output_type": "stream",
          "name": "stderr",
          "text": [
            "100%|██████████| 29515/29515 [00:00<00:00, 269485.46it/s]\n"
          ]
        },
        {
          "output_type": "stream",
          "name": "stdout",
          "text": [
            "Extracting data/FashionMNIST/raw/train-labels-idx1-ubyte.gz to data/FashionMNIST/raw\n",
            "\n",
            "Downloading http://fashion-mnist.s3-website.eu-central-1.amazonaws.com/t10k-images-idx3-ubyte.gz\n",
            "Downloading http://fashion-mnist.s3-website.eu-central-1.amazonaws.com/t10k-images-idx3-ubyte.gz to data/FashionMNIST/raw/t10k-images-idx3-ubyte.gz\n"
          ]
        },
        {
          "output_type": "stream",
          "name": "stderr",
          "text": [
            "100%|██████████| 4422102/4422102 [00:00<00:00, 5082781.81it/s]\n"
          ]
        },
        {
          "output_type": "stream",
          "name": "stdout",
          "text": [
            "Extracting data/FashionMNIST/raw/t10k-images-idx3-ubyte.gz to data/FashionMNIST/raw\n",
            "\n",
            "Downloading http://fashion-mnist.s3-website.eu-central-1.amazonaws.com/t10k-labels-idx1-ubyte.gz\n",
            "Downloading http://fashion-mnist.s3-website.eu-central-1.amazonaws.com/t10k-labels-idx1-ubyte.gz to data/FashionMNIST/raw/t10k-labels-idx1-ubyte.gz\n"
          ]
        },
        {
          "output_type": "stream",
          "name": "stderr",
          "text": [
            "100%|██████████| 5148/5148 [00:00<00:00, 21722612.67it/s]"
          ]
        },
        {
          "output_type": "stream",
          "name": "stdout",
          "text": [
            "Extracting data/FashionMNIST/raw/t10k-labels-idx1-ubyte.gz to data/FashionMNIST/raw\n",
            "\n"
          ]
        },
        {
          "output_type": "stream",
          "name": "stderr",
          "text": [
            "\n"
          ]
        }
      ]
    },
    {
      "cell_type": "code",
      "source": [
        "# Frist Training samole\n",
        "image, label = train_data[0]\n",
        "image, label"
      ],
      "metadata": {
        "colab": {
          "base_uri": "https://localhost:8080/"
        },
        "id": "KFUD2zlE25pS",
        "outputId": "cbda1402-a3c4-4740-ddcc-1752829ae323"
      },
      "execution_count": null,
      "outputs": [
        {
          "output_type": "execute_result",
          "data": {
            "text/plain": [
              "(tensor([[[0.0000, 0.0000, 0.0000, 0.0000, 0.0000, 0.0000, 0.0000, 0.0000,\n",
              "           0.0000, 0.0000, 0.0000, 0.0000, 0.0000, 0.0000, 0.0000, 0.0000,\n",
              "           0.0000, 0.0000, 0.0000, 0.0000, 0.0000, 0.0000, 0.0000, 0.0000,\n",
              "           0.0000, 0.0000, 0.0000, 0.0000],\n",
              "          [0.0000, 0.0000, 0.0000, 0.0000, 0.0000, 0.0000, 0.0000, 0.0000,\n",
              "           0.0000, 0.0000, 0.0000, 0.0000, 0.0000, 0.0000, 0.0000, 0.0000,\n",
              "           0.0000, 0.0000, 0.0000, 0.0000, 0.0000, 0.0000, 0.0000, 0.0000,\n",
              "           0.0000, 0.0000, 0.0000, 0.0000],\n",
              "          [0.0000, 0.0000, 0.0000, 0.0000, 0.0000, 0.0000, 0.0000, 0.0000,\n",
              "           0.0000, 0.0000, 0.0000, 0.0000, 0.0000, 0.0000, 0.0000, 0.0000,\n",
              "           0.0000, 0.0000, 0.0000, 0.0000, 0.0000, 0.0000, 0.0000, 0.0000,\n",
              "           0.0000, 0.0000, 0.0000, 0.0000],\n",
              "          [0.0000, 0.0000, 0.0000, 0.0000, 0.0000, 0.0000, 0.0000, 0.0000,\n",
              "           0.0000, 0.0000, 0.0000, 0.0000, 0.0039, 0.0000, 0.0000, 0.0510,\n",
              "           0.2863, 0.0000, 0.0000, 0.0039, 0.0157, 0.0000, 0.0000, 0.0000,\n",
              "           0.0000, 0.0039, 0.0039, 0.0000],\n",
              "          [0.0000, 0.0000, 0.0000, 0.0000, 0.0000, 0.0000, 0.0000, 0.0000,\n",
              "           0.0000, 0.0000, 0.0000, 0.0000, 0.0118, 0.0000, 0.1412, 0.5333,\n",
              "           0.4980, 0.2431, 0.2118, 0.0000, 0.0000, 0.0000, 0.0039, 0.0118,\n",
              "           0.0157, 0.0000, 0.0000, 0.0118],\n",
              "          [0.0000, 0.0000, 0.0000, 0.0000, 0.0000, 0.0000, 0.0000, 0.0000,\n",
              "           0.0000, 0.0000, 0.0000, 0.0000, 0.0235, 0.0000, 0.4000, 0.8000,\n",
              "           0.6902, 0.5255, 0.5647, 0.4824, 0.0902, 0.0000, 0.0000, 0.0000,\n",
              "           0.0000, 0.0471, 0.0392, 0.0000],\n",
              "          [0.0000, 0.0000, 0.0000, 0.0000, 0.0000, 0.0000, 0.0000, 0.0000,\n",
              "           0.0000, 0.0000, 0.0000, 0.0000, 0.0000, 0.0000, 0.6078, 0.9255,\n",
              "           0.8118, 0.6980, 0.4196, 0.6118, 0.6314, 0.4275, 0.2510, 0.0902,\n",
              "           0.3020, 0.5098, 0.2824, 0.0588],\n",
              "          [0.0000, 0.0000, 0.0000, 0.0000, 0.0000, 0.0000, 0.0000, 0.0000,\n",
              "           0.0000, 0.0000, 0.0000, 0.0039, 0.0000, 0.2706, 0.8118, 0.8745,\n",
              "           0.8549, 0.8471, 0.8471, 0.6392, 0.4980, 0.4745, 0.4784, 0.5725,\n",
              "           0.5529, 0.3451, 0.6745, 0.2588],\n",
              "          [0.0000, 0.0000, 0.0000, 0.0000, 0.0000, 0.0000, 0.0000, 0.0000,\n",
              "           0.0000, 0.0039, 0.0039, 0.0039, 0.0000, 0.7843, 0.9098, 0.9098,\n",
              "           0.9137, 0.8980, 0.8745, 0.8745, 0.8431, 0.8353, 0.6431, 0.4980,\n",
              "           0.4824, 0.7686, 0.8980, 0.0000],\n",
              "          [0.0000, 0.0000, 0.0000, 0.0000, 0.0000, 0.0000, 0.0000, 0.0000,\n",
              "           0.0000, 0.0000, 0.0000, 0.0000, 0.0000, 0.7176, 0.8824, 0.8471,\n",
              "           0.8745, 0.8941, 0.9216, 0.8902, 0.8784, 0.8706, 0.8784, 0.8667,\n",
              "           0.8745, 0.9608, 0.6784, 0.0000],\n",
              "          [0.0000, 0.0000, 0.0000, 0.0000, 0.0000, 0.0000, 0.0000, 0.0000,\n",
              "           0.0000, 0.0000, 0.0000, 0.0000, 0.0000, 0.7569, 0.8941, 0.8549,\n",
              "           0.8353, 0.7765, 0.7059, 0.8314, 0.8235, 0.8275, 0.8353, 0.8745,\n",
              "           0.8627, 0.9529, 0.7922, 0.0000],\n",
              "          [0.0000, 0.0000, 0.0000, 0.0000, 0.0000, 0.0000, 0.0000, 0.0000,\n",
              "           0.0000, 0.0039, 0.0118, 0.0000, 0.0471, 0.8588, 0.8627, 0.8314,\n",
              "           0.8549, 0.7529, 0.6627, 0.8902, 0.8157, 0.8549, 0.8784, 0.8314,\n",
              "           0.8863, 0.7725, 0.8196, 0.2039],\n",
              "          [0.0000, 0.0000, 0.0000, 0.0000, 0.0000, 0.0000, 0.0000, 0.0000,\n",
              "           0.0000, 0.0000, 0.0235, 0.0000, 0.3882, 0.9569, 0.8706, 0.8627,\n",
              "           0.8549, 0.7961, 0.7765, 0.8667, 0.8431, 0.8353, 0.8706, 0.8627,\n",
              "           0.9608, 0.4667, 0.6549, 0.2196],\n",
              "          [0.0000, 0.0000, 0.0000, 0.0000, 0.0000, 0.0000, 0.0000, 0.0000,\n",
              "           0.0000, 0.0157, 0.0000, 0.0000, 0.2157, 0.9255, 0.8941, 0.9020,\n",
              "           0.8941, 0.9412, 0.9098, 0.8353, 0.8549, 0.8745, 0.9176, 0.8510,\n",
              "           0.8510, 0.8196, 0.3608, 0.0000],\n",
              "          [0.0000, 0.0000, 0.0039, 0.0157, 0.0235, 0.0275, 0.0078, 0.0000,\n",
              "           0.0000, 0.0000, 0.0000, 0.0000, 0.9294, 0.8863, 0.8510, 0.8745,\n",
              "           0.8706, 0.8588, 0.8706, 0.8667, 0.8471, 0.8745, 0.8980, 0.8431,\n",
              "           0.8549, 1.0000, 0.3020, 0.0000],\n",
              "          [0.0000, 0.0118, 0.0000, 0.0000, 0.0000, 0.0000, 0.0000, 0.0000,\n",
              "           0.0000, 0.2431, 0.5686, 0.8000, 0.8941, 0.8118, 0.8353, 0.8667,\n",
              "           0.8549, 0.8157, 0.8275, 0.8549, 0.8784, 0.8745, 0.8588, 0.8431,\n",
              "           0.8784, 0.9569, 0.6235, 0.0000],\n",
              "          [0.0000, 0.0000, 0.0000, 0.0000, 0.0706, 0.1725, 0.3216, 0.4196,\n",
              "           0.7412, 0.8941, 0.8627, 0.8706, 0.8510, 0.8863, 0.7843, 0.8039,\n",
              "           0.8275, 0.9020, 0.8784, 0.9176, 0.6902, 0.7373, 0.9804, 0.9725,\n",
              "           0.9137, 0.9333, 0.8431, 0.0000],\n",
              "          [0.0000, 0.2235, 0.7333, 0.8157, 0.8784, 0.8667, 0.8784, 0.8157,\n",
              "           0.8000, 0.8392, 0.8157, 0.8196, 0.7843, 0.6235, 0.9608, 0.7569,\n",
              "           0.8078, 0.8745, 1.0000, 1.0000, 0.8667, 0.9176, 0.8667, 0.8275,\n",
              "           0.8627, 0.9098, 0.9647, 0.0000],\n",
              "          [0.0118, 0.7922, 0.8941, 0.8784, 0.8667, 0.8275, 0.8275, 0.8392,\n",
              "           0.8039, 0.8039, 0.8039, 0.8627, 0.9412, 0.3137, 0.5882, 1.0000,\n",
              "           0.8980, 0.8667, 0.7373, 0.6039, 0.7490, 0.8235, 0.8000, 0.8196,\n",
              "           0.8706, 0.8941, 0.8824, 0.0000],\n",
              "          [0.3843, 0.9137, 0.7765, 0.8235, 0.8706, 0.8980, 0.8980, 0.9176,\n",
              "           0.9765, 0.8627, 0.7608, 0.8431, 0.8510, 0.9451, 0.2549, 0.2863,\n",
              "           0.4157, 0.4588, 0.6588, 0.8588, 0.8667, 0.8431, 0.8510, 0.8745,\n",
              "           0.8745, 0.8784, 0.8980, 0.1137],\n",
              "          [0.2941, 0.8000, 0.8314, 0.8000, 0.7569, 0.8039, 0.8275, 0.8824,\n",
              "           0.8471, 0.7255, 0.7725, 0.8078, 0.7765, 0.8353, 0.9412, 0.7647,\n",
              "           0.8902, 0.9608, 0.9373, 0.8745, 0.8549, 0.8314, 0.8196, 0.8706,\n",
              "           0.8627, 0.8667, 0.9020, 0.2627],\n",
              "          [0.1882, 0.7961, 0.7176, 0.7608, 0.8353, 0.7725, 0.7255, 0.7451,\n",
              "           0.7608, 0.7529, 0.7922, 0.8392, 0.8588, 0.8667, 0.8627, 0.9255,\n",
              "           0.8824, 0.8471, 0.7804, 0.8078, 0.7294, 0.7098, 0.6941, 0.6745,\n",
              "           0.7098, 0.8039, 0.8078, 0.4510],\n",
              "          [0.0000, 0.4784, 0.8588, 0.7569, 0.7020, 0.6706, 0.7176, 0.7686,\n",
              "           0.8000, 0.8235, 0.8353, 0.8118, 0.8275, 0.8235, 0.7843, 0.7686,\n",
              "           0.7608, 0.7490, 0.7647, 0.7490, 0.7765, 0.7529, 0.6902, 0.6118,\n",
              "           0.6549, 0.6941, 0.8235, 0.3608],\n",
              "          [0.0000, 0.0000, 0.2902, 0.7412, 0.8314, 0.7490, 0.6863, 0.6745,\n",
              "           0.6863, 0.7098, 0.7255, 0.7373, 0.7412, 0.7373, 0.7569, 0.7765,\n",
              "           0.8000, 0.8196, 0.8235, 0.8235, 0.8275, 0.7373, 0.7373, 0.7608,\n",
              "           0.7529, 0.8471, 0.6667, 0.0000],\n",
              "          [0.0078, 0.0000, 0.0000, 0.0000, 0.2588, 0.7843, 0.8706, 0.9294,\n",
              "           0.9373, 0.9490, 0.9647, 0.9529, 0.9569, 0.8667, 0.8627, 0.7569,\n",
              "           0.7490, 0.7020, 0.7137, 0.7137, 0.7098, 0.6902, 0.6510, 0.6588,\n",
              "           0.3882, 0.2275, 0.0000, 0.0000],\n",
              "          [0.0000, 0.0000, 0.0000, 0.0000, 0.0000, 0.0000, 0.0000, 0.1569,\n",
              "           0.2392, 0.1725, 0.2824, 0.1608, 0.1373, 0.0000, 0.0000, 0.0000,\n",
              "           0.0000, 0.0000, 0.0000, 0.0000, 0.0000, 0.0000, 0.0000, 0.0000,\n",
              "           0.0000, 0.0000, 0.0000, 0.0000],\n",
              "          [0.0000, 0.0000, 0.0000, 0.0000, 0.0000, 0.0000, 0.0000, 0.0000,\n",
              "           0.0000, 0.0000, 0.0000, 0.0000, 0.0000, 0.0000, 0.0000, 0.0000,\n",
              "           0.0000, 0.0000, 0.0000, 0.0000, 0.0000, 0.0000, 0.0000, 0.0000,\n",
              "           0.0000, 0.0000, 0.0000, 0.0000],\n",
              "          [0.0000, 0.0000, 0.0000, 0.0000, 0.0000, 0.0000, 0.0000, 0.0000,\n",
              "           0.0000, 0.0000, 0.0000, 0.0000, 0.0000, 0.0000, 0.0000, 0.0000,\n",
              "           0.0000, 0.0000, 0.0000, 0.0000, 0.0000, 0.0000, 0.0000, 0.0000,\n",
              "           0.0000, 0.0000, 0.0000, 0.0000]]]),\n",
              " 9)"
            ]
          },
          "metadata": {},
          "execution_count": 3
        }
      ]
    },
    {
      "cell_type": "code",
      "source": [
        "image.shape"
      ],
      "metadata": {
        "colab": {
          "base_uri": "https://localhost:8080/"
        },
        "id": "jnopvNS-3GWF",
        "outputId": "7e9aee64-c6a6-4e7e-f282-406bf6e84f90"
      },
      "execution_count": null,
      "outputs": [
        {
          "output_type": "execute_result",
          "data": {
            "text/plain": [
              "torch.Size([1, 28, 28])"
            ]
          },
          "metadata": {},
          "execution_count": 4
        }
      ]
    },
    {
      "cell_type": "markdown",
      "source": [
        "[color_channels=1, height=28, width=28]\n",
        "Color Channel  = 1 means Grayscale"
      ],
      "metadata": {
        "id": "-_eFQduc3MQk"
      }
    },
    {
      "cell_type": "code",
      "source": [
        "# How many samples are there?\n",
        "len(train_data.data), len(train_data.targets), len(test_data.data), len(test_data.targets)"
      ],
      "metadata": {
        "colab": {
          "base_uri": "https://localhost:8080/"
        },
        "id": "s2RQM-X83NEP",
        "outputId": "d1e97ca8-15c8-4a9b-8702-26d54f89ba19"
      },
      "execution_count": null,
      "outputs": [
        {
          "output_type": "execute_result",
          "data": {
            "text/plain": [
              "(60000, 60000, 10000, 10000)"
            ]
          },
          "metadata": {},
          "execution_count": 5
        }
      ]
    },
    {
      "cell_type": "code",
      "source": [
        "class_names = train_data.classes\n",
        "class_names"
      ],
      "metadata": {
        "colab": {
          "base_uri": "https://localhost:8080/"
        },
        "id": "_XLGBixc3vQx",
        "outputId": "9f80e9f8-d5fe-49d1-cb39-396c0c745a01"
      },
      "execution_count": null,
      "outputs": [
        {
          "output_type": "execute_result",
          "data": {
            "text/plain": [
              "['T-shirt/top',\n",
              " 'Trouser',\n",
              " 'Pullover',\n",
              " 'Dress',\n",
              " 'Coat',\n",
              " 'Sandal',\n",
              " 'Shirt',\n",
              " 'Sneaker',\n",
              " 'Bag',\n",
              " 'Ankle boot']"
            ]
          },
          "metadata": {},
          "execution_count": 6
        }
      ]
    },
    {
      "cell_type": "markdown",
      "source": [
        "###Visualizing our data"
      ],
      "metadata": {
        "id": "C2sYlAPP4CxN"
      }
    },
    {
      "cell_type": "code",
      "source": [
        "import matplotlib.pyplot as plt\n",
        "image, label = train_data[0]\n",
        "print(f\"Image shape: {image.shape}\")\n",
        "plt.imshow(image.squeeze()) # image shape is [1, 28, 28] (colour channels, height, width)\n",
        "plt.title(label);"
      ],
      "metadata": {
        "colab": {
          "base_uri": "https://localhost:8080/",
          "height": 469
        },
        "id": "B0ioEpK34HQ0",
        "outputId": "2037c67f-3bac-4714-b73c-e01006f00b35"
      },
      "execution_count": null,
      "outputs": [
        {
          "output_type": "stream",
          "name": "stdout",
          "text": [
            "Image shape: torch.Size([1, 28, 28])\n"
          ]
        },
        {
          "output_type": "display_data",
          "data": {
            "text/plain": [
              "<Figure size 640x480 with 1 Axes>"
            ],
            "image/png": "[encoded data removed]"
          },
          "metadata": {}
        }
      ]
    },
    {
      "cell_type": "code",
      "source": [
        "plt.imshow(image.squeeze(), cmap='gray')\n",
        "plt.title(class_names[label])"
      ],
      "metadata": {
        "colab": {
          "base_uri": "https://localhost:8080/",
          "height": 469
        },
        "id": "8T4JtLlZ4Pvv",
        "outputId": "84bdedcd-81ac-4715-eb1a-c25e2220fb41"
      },
      "execution_count": null,
      "outputs": [
        {
          "output_type": "execute_result",
          "data": {
            "text/plain": [
              "Text(0.5, 1.0, 'Ankle boot')"
            ]
          },
          "metadata": {},
          "execution_count": 8
        },
        {
          "output_type": "display_data",
          "data": {
            "text/plain": [
              "<Figure size 640x480 with 1 Axes>"
            ],
            "image/png": "[encoded data removed]"
          },
          "metadata": {}
        }
      ]
    },
    {
      "cell_type": "code",
      "source": [
        "# Plot more images\n",
        "torch.manual_seed(42)\n",
        "fig = plt.figure(figsize=(9, 9))\n",
        "rows, cols = 4, 4\n",
        "for i in range(1, rows * cols + 1):\n",
        "    random_idx = torch.randint(0, len(train_data), size=[1]).item()\n",
        "    img, label = train_data[random_idx]\n",
        "    fig.add_subplot(rows, cols, i)\n",
        "    plt.imshow(img.squeeze(), cmap=\"gray\")\n",
        "    plt.title(class_names[label])\n",
        "    plt.axis(False);"
      ],
      "metadata": {
        "colab": {
          "base_uri": "https://localhost:8080/",
          "height": 681
        },
        "id": "k897ErSl4mdn",
        "outputId": "feb822cb-1bbe-4816-8edf-f4eb0bc427b5"
      },
      "execution_count": null,
      "outputs": [
        {
          "output_type": "display_data",
          "data": {
            "text/plain": [
              "<Figure size 900x900 with 16 Axes>"
            ],
            "image/png": "[encoded data removed]"
          },
          "metadata": {}
        }
      ]
    },
    {
      "cell_type": "code",
      "source": [
        "from torch.utils.data import DataLoader\n",
        "\n",
        "BATCH_SIZE = 32\n",
        "train_dataloader = DataLoader(train_data,batch_size=BATCH_SIZE,shuffle=True)\n",
        "test_dataloader = DataLoader(test_data,batch_size=BATCH_SIZE,shuffle=True)\n",
        "\n",
        "# Let's check out what we've created\n",
        "print(f\"Dataloaders: {train_dataloader, test_dataloader}\")\n",
        "print(f\"Length of train dataloader: {len(train_dataloader)} batches of {BATCH_SIZE}\")\n",
        "print(f\"Length of test dataloader: {len(test_dataloader)} batches of {BATCH_SIZE}\")"
      ],
      "metadata": {
        "colab": {
          "base_uri": "https://localhost:8080/"
        },
        "id": "pSN7MmdP7Jqi",
        "outputId": "2bbbfa41-3bac-4a70-b4d4-16b02f0e2876"
      },
      "execution_count": null,
      "outputs": [
        {
          "output_type": "stream",
          "name": "stdout",
          "text": [
            "Dataloaders: (<torch.utils.data.dataloader.DataLoader object at 0x7f57bf9e3160>, <torch.utils.data.dataloader.DataLoader object at 0x7f58a1f2ee60>)\n",
            "Length of train dataloader: 1875 batches of 32\n",
            "Length of test dataloader: 313 batches of 32\n"
          ]
        }
      ]
    },
    {
      "cell_type": "code",
      "source": [
        "train_features_batch, train_labels_batch = next(iter(train_dataloader))\n",
        "train_features_batch.shape, train_labels_batch.shape"
      ],
      "metadata": {
        "colab": {
          "base_uri": "https://localhost:8080/"
        },
        "id": "5OjG2WDC7uUd",
        "outputId": "cf4c5644-a584-4072-ccfb-8106900f9253"
      },
      "execution_count": null,
      "outputs": [
        {
          "output_type": "execute_result",
          "data": {
            "text/plain": [
              "(torch.Size([32, 1, 28, 28]), torch.Size([32]))"
            ]
          },
          "metadata": {},
          "execution_count": 11
        }
      ]
    },
    {
      "cell_type": "code",
      "source": [
        "torch.manual_seed(42)\n",
        "random_idx = torch.randint(0, len(train_features_batch), size=[1]).item()\n",
        "img, label = train_features_batch[random_idx], train_labels_batch[random_idx]\n",
        "plt.imshow(img.squeeze(), cmap='gray')\n",
        "plt.title(class_names[label])\n",
        "plt.axis(\"Off\")\n",
        "print(f\"Image size: {img.shape}\")\n",
        "print(f\"Label: {label}, label size: {label.shape}\")"
      ],
      "metadata": {
        "colab": {
          "base_uri": "https://localhost:8080/",
          "height": 463
        },
        "id": "QDCkq9_V8F6X",
        "outputId": "2ea5789a-d9c8-48ae-c39f-e3140760a93d"
      },
      "execution_count": null,
      "outputs": [
        {
          "output_type": "stream",
          "name": "stdout",
          "text": [
            "Image size: torch.Size([1, 28, 28])\n",
            "Label: 6, label size: torch.Size([])\n"
          ]
        },
        {
          "output_type": "display_data",
          "data": {
            "text/plain": [
              "<Figure size 640x480 with 1 Axes>"
            ],
            "image/png": "[encoded data removed]"
          },
          "metadata": {}
        }
      ]
    },
    {
      "cell_type": "markdown",
      "source": [
        "###Model 0: Build a baseline model"
      ],
      "metadata": {
        "id": "Al2NNkidAHL4"
      }
    },
    {
      "cell_type": "code",
      "source": [
        "#Create a flatten layer\n",
        "flatten_model = nn.Flatten()\n",
        "\n",
        "#Get a single sample\n",
        "x = train_features_batch[0]\n",
        "\n",
        "#Flatten the sample\n",
        "output = flatten_model(x)\n",
        "\n",
        "# Print out what happened\n",
        "print(f\"Shape before flattening: {x.shape} -> [color_channels, height, width]\")\n",
        "print(f\"Shape after flattening: {output.shape} -> [color_channels, height*width]\")"
      ],
      "metadata": {
        "colab": {
          "base_uri": "https://localhost:8080/"
        },
        "id": "iRqBWi4bAK5p",
        "outputId": "88f4a902-1e75-463b-a0f8-c94131088795"
      },
      "execution_count": null,
      "outputs": [
        {
          "output_type": "stream",
          "name": "stdout",
          "text": [
            "Shape before flattening: torch.Size([1, 28, 28]) -> [color_channels, height, width]\n",
            "Shape after flattening: torch.Size([1, 784]) -> [color_channels, height*width]\n"
          ]
        }
      ]
    },
    {
      "cell_type": "code",
      "source": [
        "from torch import nn\n",
        "class FashionMNISTModelV0(nn.Module):\n",
        "  def __init__(self,input_shape: int, hidden_units: int, output_shape: int):\n",
        "    super().__init__()\n",
        "    self.layer_stack = nn.Sequential(\n",
        "        nn.Flatten(),\n",
        "        nn.Linear(in_features=input_shape, out_features=hidden_units),\n",
        "        nn.Linear(in_features=hidden_units, out_features=output_shape)\n",
        "    )\n",
        "  def forward(self,x):\n",
        "    return self.layer_stack(x)"
      ],
      "metadata": {
        "id": "08N787PiAiWO"
      },
      "execution_count": null,
      "outputs": []
    },
    {
      "cell_type": "code",
      "source": [
        "torch.manual_seed(42)\n",
        "\n",
        "# Need to setup model with input parameters\n",
        "model_0 = FashionMNISTModelV0(input_shape=784, # one for every pixel (28x28)\n",
        "    hidden_units=10, # how many units in the hiden layer\n",
        "    output_shape=len(class_names) # one for every class\n",
        ")\n",
        "model_0.to(\"cpu\") # keep model on CPU to begin with"
      ],
      "metadata": {
        "colab": {
          "base_uri": "https://localhost:8080/"
        },
        "id": "xu5_kWNqBotN",
        "outputId": "48b064dd-ed70-460e-fd09-afb2b1dd37f0"
      },
      "execution_count": null,
      "outputs": [
        {
          "output_type": "execute_result",
          "data": {
            "text/plain": [
              "FashionMNISTModelV0(\n",
              "  (layer_stack): Sequential(\n",
              "    (0): Flatten(start_dim=1, end_dim=-1)\n",
              "    (1): Linear(in_features=784, out_features=10, bias=True)\n",
              "    (2): Linear(in_features=10, out_features=10, bias=True)\n",
              "  )\n",
              ")"
            ]
          },
          "metadata": {},
          "execution_count": 15
        }
      ]
    },
    {
      "cell_type": "markdown",
      "source": [
        "###Setup loss, optimizer and evaluation metrics"
      ],
      "metadata": {
        "id": "1jiC62i7BxFg"
      }
    },
    {
      "cell_type": "code",
      "source": [
        "import requests\n",
        "from pathlib import Path\n",
        "\n",
        "# Download helper functions from Learn PyTorch repo (if not already downloaded)\n",
        "if Path(\"helper_functions.py\").is_file():\n",
        "  print(\"helper_functions.py already exists, skipping download\")\n",
        "else:\n",
        "  print(\"Downloading helper_functions.py\")\n",
        "  # Note: you need the \"raw\" GitHub URL for this to work\n",
        "  request = requests.get(\"https://raw.githubusercontent.com/mrdbourke/pytorch-deep-learning/main/helper_functions.py\")\n",
        "  with open(\"helper_functions.py\", \"wb\") as f:\n",
        "    f.write(request.content)"
      ],
      "metadata": {
        "colab": {
          "base_uri": "https://localhost:8080/"
        },
        "id": "EBI-kunaB1FO",
        "outputId": "13e72c15-9ee2-40a9-95ce-ce73e7876a4a"
      },
      "execution_count": null,
      "outputs": [
        {
          "output_type": "stream",
          "name": "stdout",
          "text": [
            "Downloading helper_functions.py\n"
          ]
        }
      ]
    },
    {
      "cell_type": "code",
      "source": [
        "# Import accuracy metric\n",
        "from helper_functions import accuracy_fn # Note: could also use torchmetrics.Accuracy(task = 'multiclass', num_classes=len(class_names)).to(device)\n",
        "\n",
        "# Setup loss function and optimizer\n",
        "loss_fn = nn.CrossEntropyLoss() # this is also called \"criterion\"/\"cost function\" in some places\n",
        "optimizer = torch.optim.SGD(params=model_0.parameters(), lr=0.1)"
      ],
      "metadata": {
        "id": "kLyuJvqZB3--"
      },
      "execution_count": null,
      "outputs": []
    },
    {
      "cell_type": "markdown",
      "source": [
        "###Creating a function to time our experiment"
      ],
      "metadata": {
        "id": "evNoMA86D64x"
      }
    },
    {
      "cell_type": "code",
      "source": [
        "from timeit import default_timer as timer\n",
        "def print_train_time(start: float, end: float, device: torch.device = None):\n",
        "    \"\"\"Prints difference between start and end time.\n",
        "\n",
        "    Args:\n",
        "        start (float): Start time of computation (preferred in timeit format).\n",
        "        end (float): End time of computation.\n",
        "        device ([type], optional): Device that compute is running on. Defaults to None.\n",
        "\n",
        "    Returns:\n",
        "        float: time between start and end in seconds (higher is longer).\n",
        "    \"\"\"\n",
        "    total_time = end - start\n",
        "    print(f\"Train time on {device}: {total_time:.3f} seconds\")\n",
        "    return total_time"
      ],
      "metadata": {
        "id": "lmlb-TngDOVg"
      },
      "execution_count": null,
      "outputs": []
    },
    {
      "cell_type": "markdown",
      "source": [
        "###Creating a training loop and training a model on batches of data"
      ],
      "metadata": {
        "id": "OrjYIBP5Ls44"
      }
    },
    {
      "cell_type": "code",
      "source": [
        "# Import tqdm for progress bar\n",
        "from tqdm.auto import tqdm\n",
        "\n",
        "# Set the seed and start the timer\n",
        "torch.manual_seed(42)\n",
        "train_time_start_on_cpu = timer()\n",
        "\n",
        "# Set the number of epochs (we'll keep this small for faster training times)\n",
        "epochs = 3\n",
        "\n",
        "# Create training and testing loop\n",
        "for epoch in tqdm(range(epochs)):\n",
        "    print(f\"Epoch: {epoch}\\n-------\")\n",
        "    ### Training\n",
        "    train_loss = 0\n",
        "    # Add a loop to loop through training batches\n",
        "    for batch, (X, y) in enumerate(train_dataloader):\n",
        "        model_0.train()\n",
        "        # 1. Forward pass\n",
        "        y_pred = model_0(X)\n",
        "\n",
        "        # 2. Calculate loss (per batch)\n",
        "        loss = loss_fn(y_pred, y)\n",
        "        train_loss += loss # accumulatively add up the loss per epoch\n",
        "\n",
        "        # 3. Optimizer zero grad\n",
        "        optimizer.zero_grad()\n",
        "\n",
        "        # 4. Loss backward\n",
        "        loss.backward()\n",
        "\n",
        "        # 5. Optimizer step\n",
        "        optimizer.step()\n",
        "\n",
        "        # Print out how many samples have been seen\n",
        "        if batch % 400 == 0:\n",
        "            print(f\"Looked at {batch * len(X)}/{len(train_dataloader.dataset)} samples\")\n",
        "\n",
        "    # Divide total train loss by length of train dataloader (average loss per batch per epoch)\n",
        "    train_loss /= len(train_dataloader)\n",
        "\n",
        "    ### Testing\n",
        "    # Setup variables for accumulatively adding up loss and accuracy\n",
        "    test_loss, test_acc = 0, 0\n",
        "    model_0.eval()\n",
        "    with torch.inference_mode():\n",
        "        for X, y in test_dataloader:\n",
        "            # 1. Forward pass\n",
        "            test_pred = model_0(X)\n",
        "\n",
        "            # 2. Calculate loss (accumatively)\n",
        "            test_loss += loss_fn(test_pred, y) # accumulatively add up the loss per epoch\n",
        "\n",
        "            # 3. Calculate accuracy (preds need to be same as y_true)\n",
        "            test_acc += accuracy_fn(y_true=y, y_pred=test_pred.argmax(dim=1))\n",
        "\n",
        "        # Calculations on test metrics need to happen inside torch.inference_mode()\n",
        "        # Divide total test loss by length of test dataloader (per batch)\n",
        "        test_loss /= len(test_dataloader)\n",
        "\n",
        "        # Divide total accuracy by length of test dataloader (per batch)\n",
        "        test_acc /= len(test_dataloader)\n",
        "\n",
        "    ## Print out what's happening\n",
        "    print(f\"\\nTrain loss: {train_loss:.5f} | Test loss: {test_loss:.5f}, Test acc: {test_acc:.2f}%\\n\")\n",
        "\n",
        "# Calculate training time\n",
        "train_time_end_on_cpu = timer()\n",
        "total_train_time_model_0 = print_train_time(start=train_time_start_on_cpu,\n",
        "                                           end=train_time_end_on_cpu,\n",
        "                                           device=str(next(model_0.parameters()).device))"
      ],
      "metadata": {
        "colab": {
          "base_uri": "https://localhost:8080/",
          "height": 587,
          "referenced_widgets": [
            "7da61107df634c6c8913bef18b78aa7e",
            "300fe69e91874f26ad22e1f73a7563d6",
            "22e0ec40eece4d85ab2d6d1f585a4e59",
            "9c4300df8ec74352a99148e41f99d64a",
            "cb47bcdd43f64e90b9ab43692ae94cf3",
            "7bbf9d3e944d40c2aa5f1a1185ac24b9",
            "3f7f9ee435aa465d9045a83c0777cbb0",
            "972ab5b713764a818e291c748c3c0c67",
            "7325e9c1475042139c175b0d73fe7bd4",
            "7c36708f1e964ab7a44a8b5cd37b80fc",
            "ee71b990633b44b7aa806b958e2b8354"
          ]
        },
        "id": "bs8HqmTsLwfc",
        "outputId": "ffcda765-1c13-46d0-e036-f2e1e257d33d"
      },
      "execution_count": null,
      "outputs": [
        {
          "output_type": "display_data",
          "data": {
            "text/plain": [
              "  0%|          | 0/3 [00:00<?, ?it/s]"
            ],
            "application/vnd.jupyter.widget-view+json": {
              "version_major": 2,
              "version_minor": 0,
              "model_id": "7da61107df634c6c8913bef18b78aa7e"
            }
          },
          "metadata": {}
        },
        {
          "output_type": "stream",
          "name": "stdout",
          "text": [
            "Epoch: 0\n",
            "-------\n",
            "Looked at 0/60000 samples\n",
            "Looked at 12800/60000 samples\n",
            "Looked at 25600/60000 samples\n",
            "Looked at 38400/60000 samples\n",
            "Looked at 51200/60000 samples\n",
            "\n",
            "Train loss: 0.59039 | Test loss: 0.51016, Test acc: 82.04%\n",
            "\n",
            "Epoch: 1\n",
            "-------\n",
            "Looked at 0/60000 samples\n",
            "Looked at 12800/60000 samples\n",
            "Looked at 25600/60000 samples\n",
            "Looked at 38400/60000 samples\n",
            "Looked at 51200/60000 samples\n",
            "\n",
            "Train loss: 0.47435 | Test loss: 0.52677, Test acc: 81.68%\n",
            "\n",
            "Epoch: 2\n",
            "-------\n",
            "Looked at 0/60000 samples\n",
            "Looked at 12800/60000 samples\n",
            "Looked at 25600/60000 samples\n",
            "Looked at 38400/60000 samples\n",
            "Looked at 51200/60000 samples\n",
            "\n",
            "Train loss: 0.45367 | Test loss: 0.51264, Test acc: 83.00%\n",
            "\n",
            "Train time on cpu: 28.210 seconds\n"
          ]
        }
      ]
    },
    {
      "cell_type": "markdown",
      "source": [
        "###Setup device agnostic-code (for using a GPU if there is one)"
      ],
      "metadata": {
        "id": "eoYMdoXoTJI5"
      }
    },
    {
      "cell_type": "code",
      "source": [
        "# Setup device agnostic code\n",
        "import torch\n",
        "device = \"cuda\" if torch.cuda.is_available() else \"cpu\"\n",
        "device"
      ],
      "metadata": {
        "colab": {
          "base_uri": "https://localhost:8080/",
          "height": 36
        },
        "id": "ILQXzgI-TLm5",
        "outputId": "4d35e2b8-b0ef-44cf-ed1b-d425d874b7a7"
      },
      "execution_count": null,
      "outputs": [
        {
          "output_type": "execute_result",
          "data": {
            "text/plain": [
              "'cuda'"
            ],
            "application/vnd.google.colaboratory.intrinsic+json": {
              "type": "string"
            }
          },
          "metadata": {},
          "execution_count": 20
        }
      ]
    },
    {
      "cell_type": "markdown",
      "source": [
        "###Model 1: Building a better model with non-linearity"
      ],
      "metadata": {
        "id": "jstdL9zXUouq"
      }
    },
    {
      "cell_type": "code",
      "source": [
        "# Create a model with non-linear and linear layers\n",
        "class FashionMNISTModelV1(nn.Module):\n",
        "    def __init__(self, input_shape: int, hidden_units: int, output_shape: int):\n",
        "        super().__init__()\n",
        "        self.layer_stack = nn.Sequential(\n",
        "            nn.Flatten(), # flatten inputs into single vector\n",
        "            nn.Linear(in_features=input_shape, out_features=hidden_units),\n",
        "            nn.ReLU(),\n",
        "            nn.Linear(in_features=hidden_units, out_features=output_shape),\n",
        "            nn.ReLU()\n",
        "        )\n",
        "\n",
        "    def forward(self, x: torch.Tensor):\n",
        "        return self.layer_stack(x)"
      ],
      "metadata": {
        "id": "TfX8QlGRUobT"
      },
      "execution_count": null,
      "outputs": []
    },
    {
      "cell_type": "code",
      "source": [
        "torch.manual_seed(42)\n",
        "model_1 = FashionMNISTModelV1(input_shape=784, # number of input features\n",
        "    hidden_units=10,\n",
        "    output_shape=len(class_names) # number of output classes desired\n",
        ").to(device) # send model to GPU if it's available\n",
        "next(model_1.parameters()).device # check model device"
      ],
      "metadata": {
        "colab": {
          "base_uri": "https://localhost:8080/"
        },
        "id": "nbJEE6JqUxEj",
        "outputId": "90c20c40-c2f2-49e3-88b6-8ee55d264f84"
      },
      "execution_count": null,
      "outputs": [
        {
          "output_type": "execute_result",
          "data": {
            "text/plain": [
              "device(type='cuda', index=0)"
            ]
          },
          "metadata": {},
          "execution_count": 22
        }
      ]
    },
    {
      "cell_type": "markdown",
      "source": [
        "###Setup loss, optimizer and evaluation metrics"
      ],
      "metadata": {
        "id": "JyVQitEFUDO0"
      }
    },
    {
      "cell_type": "code",
      "source": [
        "from helper_functions import accuracy_fn\n",
        "loss_fn = nn.CrossEntropyLoss()\n",
        "optimizer = torch.optim.SGD(params=model_1.parameters(),\n",
        "                            lr=0.1)"
      ],
      "metadata": {
        "id": "JcL4qyqRUGDz"
      },
      "execution_count": null,
      "outputs": []
    },
    {
      "cell_type": "markdown",
      "source": [
        "###Functionizing training and test loops"
      ],
      "metadata": {
        "id": "rmMSWFy9U5AJ"
      }
    },
    {
      "cell_type": "code",
      "source": [
        "def train_step(model: torch.nn.Module,\n",
        "               data_loader: torch.utils.data.DataLoader,\n",
        "               loss_fn: torch.nn.Module,\n",
        "               optimizer: torch.optim.Optimizer,\n",
        "               accuracy_fn,\n",
        "               device: torch.device = device):\n",
        "    train_loss, train_acc = 0, 0\n",
        "    model.to(device)\n",
        "    for batch, (X, y) in enumerate(data_loader):\n",
        "        # Send data to GPU\n",
        "        X, y = X.to(device), y.to(device)\n",
        "\n",
        "        # 1. Forward pass\n",
        "        y_pred = model(X)\n",
        "\n",
        "        # 2. Calculate loss\n",
        "        loss = loss_fn(y_pred, y)\n",
        "        train_loss += loss\n",
        "        train_acc += accuracy_fn(y_true=y,\n",
        "                                 y_pred=y_pred.argmax(dim=1)) # Go from logits -> pred labels\n",
        "\n",
        "        # 3. Optimizer zero grad\n",
        "        optimizer.zero_grad()\n",
        "\n",
        "        # 4. Loss backward\n",
        "        loss.backward()\n",
        "\n",
        "        # 5. Optimizer step\n",
        "        optimizer.step()\n",
        "\n",
        "    # Calculate loss and accuracy per epoch and print out what's happening\n",
        "    train_loss /= len(data_loader)\n",
        "    train_acc /= len(data_loader)\n",
        "    print(f\"Train loss: {train_loss:.5f} | Train accuracy: {train_acc:.2f}%\")\n",
        "\n",
        "def test_step(data_loader: torch.utils.data.DataLoader,\n",
        "              model: torch.nn.Module,\n",
        "              loss_fn: torch.nn.Module,\n",
        "              accuracy_fn,\n",
        "              device: torch.device = device):\n",
        "    test_loss, test_acc = 0, 0\n",
        "    model.to(device)\n",
        "    model.eval() # put model in eval mode\n",
        "    # Turn on inference context manager\n",
        "    with torch.inference_mode():\n",
        "        for X, y in data_loader:\n",
        "            # Send data to GPU\n",
        "            X, y = X.to(device), y.to(device)\n",
        "\n",
        "            # 1. Forward pass\n",
        "            test_pred = model(X)\n",
        "\n",
        "            # 2. Calculate loss and accuracy\n",
        "            test_loss += loss_fn(test_pred, y)\n",
        "            test_acc += accuracy_fn(y_true=y,\n",
        "                y_pred=test_pred.argmax(dim=1) # Go from logits -> pred labels\n",
        "            )\n",
        "\n",
        "        # Adjust metrics and print out\n",
        "        test_loss /= len(data_loader)\n",
        "        test_acc /= len(data_loader)\n",
        "        print(f\"Test loss: {test_loss:.5f} | Test accuracy: {test_acc:.2f}%\\n\")"
      ],
      "metadata": {
        "id": "Zd7GqoVPVAYq"
      },
      "execution_count": null,
      "outputs": []
    },
    {
      "cell_type": "code",
      "source": [
        "torch.manual_seed(42)\n",
        "\n",
        "# Measure time\n",
        "from timeit import default_timer as timer\n",
        "train_time_start_on_gpu = timer()\n",
        "\n",
        "epochs = 3\n",
        "for epoch in tqdm(range(epochs)):\n",
        "    print(f\"Epoch: {epoch}\\n---------\")\n",
        "    train_step(data_loader=train_dataloader,\n",
        "        model=model_1,\n",
        "        loss_fn=loss_fn,\n",
        "        optimizer=optimizer,\n",
        "        accuracy_fn=accuracy_fn\n",
        "    )\n",
        "    test_step(data_loader=test_dataloader,\n",
        "        model=model_1,\n",
        "        loss_fn=loss_fn,\n",
        "        accuracy_fn=accuracy_fn\n",
        "    )\n",
        "\n",
        "train_time_end_on_gpu = timer()\n",
        "total_train_time_model_1 = print_train_time(start=train_time_start_on_gpu,\n",
        "                                            end=train_time_end_on_gpu,\n",
        "                                            device=device)"
      ],
      "metadata": {
        "colab": {
          "base_uri": "https://localhost:8080/",
          "height": 327,
          "referenced_widgets": [
            "ed4d31d71d824872a340f5cd3464fed3",
            "e978a5f590264d2f929273956a573160",
            "334343154d1840e5b64f6e197d382225",
            "6f47547a1a5c450982b7b2663c723235",
            "235469641040475eb831d0ec8ef76ecf",
            "ec16739914a2470eb22961aa75fd40f2",
            "1616248ccd0a4ba6a56ef28c4525fd12",
            "b1cec658262e467781714d2302a0dd54",
            "86f06d2b9f8a45b292e09088f4ddfaee",
            "6aca5d188b5b49b2b6847ad5b883cf72",
            "5c278993793e4867ad1942de0325eb3a"
          ]
        },
        "id": "gu7JYIO3VjBF",
        "outputId": "4d2b36a8-ac04-4a71-b1af-a7384247a2da"
      },
      "execution_count": null,
      "outputs": [
        {
          "output_type": "display_data",
          "data": {
            "text/plain": [
              "  0%|          | 0/3 [00:00<?, ?it/s]"
            ],
            "application/vnd.jupyter.widget-view+json": {
              "version_major": 2,
              "version_minor": 0,
              "model_id": "ed4d31d71d824872a340f5cd3464fed3"
            }
          },
          "metadata": {}
        },
        {
          "output_type": "stream",
          "name": "stdout",
          "text": [
            "Epoch: 0\n",
            "---------\n",
            "Train loss: 1.09199 | Train accuracy: 61.34%\n",
            "Test loss: 0.95690 | Test accuracy: 64.98%\n",
            "\n",
            "Epoch: 1\n",
            "---------\n",
            "Train loss: 0.73779 | Train accuracy: 73.69%\n",
            "Test loss: 0.72388 | Test accuracy: 74.21%\n",
            "\n",
            "Epoch: 2\n",
            "---------\n",
            "Train loss: 0.66776 | Train accuracy: 76.08%\n",
            "Test loss: 0.68751 | Test accuracy: 75.64%\n",
            "\n",
            "Train time on cuda: 33.417 seconds\n"
          ]
        }
      ]
    },
    {
      "cell_type": "code",
      "source": [
        "# Move values to device\n",
        "torch.manual_seed(42)\n",
        "def eval_model(model: torch.nn.Module,\n",
        "               data_loader: torch.utils.data.DataLoader,\n",
        "               loss_fn: torch.nn.Module,\n",
        "               accuracy_fn,\n",
        "               device: torch.device = device):\n",
        "    \"\"\"Evaluates a given model on a given dataset.\n",
        "\n",
        "    Args:\n",
        "        model (torch.nn.Module): A PyTorch model capable of making predictions on data_loader.\n",
        "        data_loader (torch.utils.data.DataLoader): The target dataset to predict on.\n",
        "        loss_fn (torch.nn.Module): The loss function of model.\n",
        "        accuracy_fn: An accuracy function to compare the models predictions to the truth labels.\n",
        "        device (str, optional): Target device to compute on. Defaults to device.\n",
        "\n",
        "    Returns:\n",
        "        (dict): Results of model making predictions on data_loader.\n",
        "    \"\"\"\n",
        "    loss, acc = 0, 0\n",
        "    model.eval()\n",
        "    with torch.inference_mode():\n",
        "        for X, y in data_loader:\n",
        "            # Send data to the target device\n",
        "            X, y = X.to(device), y.to(device)\n",
        "            y_pred = model(X)\n",
        "            loss += loss_fn(y_pred, y)\n",
        "            acc += accuracy_fn(y_true=y, y_pred=y_pred.argmax(dim=1))\n",
        "\n",
        "        # Scale loss and acc\n",
        "        loss /= len(data_loader)\n",
        "        acc /= len(data_loader)\n",
        "    return {\"model_name\": model.__class__.__name__, # only works when model was created with a class\n",
        "            \"model_loss\": loss.item(),\n",
        "            \"model_acc\": acc}\n",
        "\n",
        "# Calculate model 1 results with device-agnostic code\n",
        "model_1_results = eval_model(model=model_1, data_loader=test_dataloader,\n",
        "    loss_fn=loss_fn, accuracy_fn=accuracy_fn,\n",
        "    device=device\n",
        ")\n",
        "model_1_results"
      ],
      "metadata": {
        "colab": {
          "base_uri": "https://localhost:8080/"
        },
        "id": "ZwoJfsoBWIjA",
        "outputId": "64d8ac61-badc-44ec-d867-4da7d1379d4a"
      },
      "execution_count": null,
      "outputs": [
        {
          "output_type": "execute_result",
          "data": {
            "text/plain": [
              "{'model_name': 'FashionMNISTModelV1',\n",
              " 'model_loss': 0.687375545501709,\n",
              " 'model_acc': 75.64896166134186}"
            ]
          },
          "metadata": {},
          "execution_count": 26
        }
      ]
    },
    {
      "cell_type": "markdown",
      "source": [
        "###Model 2: Building a Convolutional Neural Network (CNN)"
      ],
      "metadata": {
        "id": "1pjT5lPh5BN2"
      }
    },
    {
      "cell_type": "code",
      "source": [
        "# Create a convolutional neural network\n",
        "class FashionMNISTModelV2(nn.Module):\n",
        "    \"\"\"\n",
        "    Model architecture copying TinyVGG from:\n",
        "    https://poloclub.github.io/cnn-explainer/\n",
        "    \"\"\"\n",
        "    def __init__(self, input_shape: int, hidden_units: int, output_shape: int):\n",
        "        super().__init__()\n",
        "        self.block_1 = nn.Sequential(\n",
        "            nn.Conv2d(in_channels=input_shape,\n",
        "                      out_channels=hidden_units,\n",
        "                      kernel_size=3, # how big is the square that's going over the image?\n",
        "                      stride=1, # default\n",
        "                      padding=1),# options = \"valid\" (no padding) or \"same\" (output has same shape as input) or int for specific number\n",
        "            nn.ReLU(),\n",
        "            nn.Conv2d(in_channels=hidden_units,\n",
        "                      out_channels=hidden_units,\n",
        "                      kernel_size=3,\n",
        "                      stride=1,\n",
        "                      padding=1),\n",
        "            nn.ReLU(),\n",
        "            nn.MaxPool2d(kernel_size=2,\n",
        "                         stride=2) # default stride value is same as kernel_size\n",
        "        )\n",
        "        self.block_2 = nn.Sequential(\n",
        "            nn.Conv2d(hidden_units, hidden_units, 3, padding=1),\n",
        "            nn.ReLU(),\n",
        "            nn.Conv2d(hidden_units, hidden_units, 3, padding=1),\n",
        "            nn.ReLU(),\n",
        "            nn.MaxPool2d(2)\n",
        "        )\n",
        "        self.classifier = nn.Sequential(\n",
        "            nn.Flatten(),\n",
        "            # Where did this in_features shape come from?\n",
        "            # It's because each layer of our network compresses and changes the shape of our inputs data.\n",
        "            nn.Linear(in_features=hidden_units*7*7,\n",
        "                      out_features=output_shape)\n",
        "        )\n",
        "\n",
        "    def forward(self, x: torch.Tensor):\n",
        "        x = self.block_1(x)\n",
        "        # print(x.shape)\n",
        "        x = self.block_2(x)\n",
        "        # print(x.shape)\n",
        "        x = self.classifier(x)\n",
        "        # print(x.shape)\n",
        "        return x\n",
        "\n",
        "torch.manual_seed(42)\n",
        "model_2 = FashionMNISTModelV2(input_shape=1,\n",
        "    hidden_units=10,\n",
        "    output_shape=len(class_names)).to(device)\n",
        "model_2"
      ],
      "metadata": {
        "colab": {
          "base_uri": "https://localhost:8080/"
        },
        "id": "nC6fqVdG5GZ9",
        "outputId": "78be874a-17a2-4f38-99e8-bd1e07add29c"
      },
      "execution_count": null,
      "outputs": [
        {
          "output_type": "execute_result",
          "data": {
            "text/plain": [
              "FashionMNISTModelV2(\n",
              "  (block_1): Sequential(\n",
              "    (0): Conv2d(1, 10, kernel_size=(3, 3), stride=(1, 1), padding=(1, 1))\n",
              "    (1): ReLU()\n",
              "    (2): Conv2d(10, 10, kernel_size=(3, 3), stride=(1, 1), padding=(1, 1))\n",
              "    (3): ReLU()\n",
              "    (4): MaxPool2d(kernel_size=2, stride=2, padding=0, dilation=1, ceil_mode=False)\n",
              "  )\n",
              "  (block_2): Sequential(\n",
              "    (0): Conv2d(10, 10, kernel_size=(3, 3), stride=(1, 1), padding=(1, 1))\n",
              "    (1): ReLU()\n",
              "    (2): Conv2d(10, 10, kernel_size=(3, 3), stride=(1, 1), padding=(1, 1))\n",
              "    (3): ReLU()\n",
              "    (4): MaxPool2d(kernel_size=2, stride=2, padding=0, dilation=1, ceil_mode=False)\n",
              "  )\n",
              "  (classifier): Sequential(\n",
              "    (0): Flatten(start_dim=1, end_dim=-1)\n",
              "    (1): Linear(in_features=490, out_features=10, bias=True)\n",
              "  )\n",
              ")"
            ]
          },
          "metadata": {},
          "execution_count": 27
        }
      ]
    },
    {
      "cell_type": "code",
      "source": [
        "torch.manual_seed(42)\n",
        "\n",
        "# Create sample batch of random numbers with same size as image batch\n",
        "images = torch.randn(size=(32, 3, 64, 64)) # [batch_size, color_channels, height, width]\n",
        "test_image = images[0] # get a single image for testing\n",
        "print(f\"Image batch shape: {images.shape} -> [batch_size, color_channels, height, width]\")\n",
        "print(f\"Single image shape: {test_image.shape} -> [color_channels, height, width]\")\n",
        "print(f\"Single image pixel values:\\n{test_image}\")"
      ],
      "metadata": {
        "colab": {
          "base_uri": "https://localhost:8080/"
        },
        "id": "j-dD9-bUMNx1",
        "outputId": "3c0f2bec-0b58-45ce-82da-f10163454768"
      },
      "execution_count": null,
      "outputs": [
        {
          "output_type": "stream",
          "name": "stdout",
          "text": [
            "Image batch shape: torch.Size([32, 3, 64, 64]) -> [batch_size, color_channels, height, width]\n",
            "Single image shape: torch.Size([3, 64, 64]) -> [color_channels, height, width]\n",
            "Single image pixel values:\n",
            "tensor([[[ 1.9269,  1.4873,  0.9007,  ...,  1.8446, -1.1845,  1.3835],\n",
            "         [ 1.4451,  0.8564,  2.2181,  ...,  0.3399,  0.7200,  0.4114],\n",
            "         [ 1.9312,  1.0119, -1.4364,  ..., -0.5558,  0.7043,  0.7099],\n",
            "         ...,\n",
            "         [-0.5610, -0.4830,  0.4770,  ..., -0.2713, -0.9537, -0.6737],\n",
            "         [ 0.3076, -0.1277,  0.0366,  ..., -2.0060,  0.2824, -0.8111],\n",
            "         [-1.5486,  0.0485, -0.7712,  ..., -0.1403,  0.9416, -0.0118]],\n",
            "\n",
            "        [[-0.5197,  1.8524,  1.8365,  ...,  0.8935, -1.5114, -0.8515],\n",
            "         [ 2.0818,  1.0677, -1.4277,  ...,  1.6612, -2.6223, -0.4319],\n",
            "         [-0.1010, -0.4388, -1.9775,  ...,  0.2106,  0.2536, -0.7318],\n",
            "         ...,\n",
            "         [ 0.2779,  0.7342, -0.3736,  ..., -0.4601,  0.1815,  0.1850],\n",
            "         [ 0.7205, -0.2833,  0.0937,  ..., -0.1002, -2.3609,  2.2465],\n",
            "         [-1.3242, -0.1973,  0.2920,  ...,  0.5409,  0.6940,  1.8563]],\n",
            "\n",
            "        [[-0.7978,  1.0261,  1.1465,  ...,  1.2134,  0.9354, -0.0780],\n",
            "         [-1.4647, -1.9571,  0.1017,  ..., -1.9986, -0.7409,  0.7011],\n",
            "         [-1.3938,  0.8466, -1.7191,  ..., -1.1867,  0.1320,  0.3407],\n",
            "         ...,\n",
            "         [ 0.8206, -0.3745,  1.2499,  ..., -0.0676,  0.0385,  0.6335],\n",
            "         [-0.5589, -0.3393,  0.2347,  ...,  2.1181,  2.4569,  1.3083],\n",
            "         [-0.4092,  1.5199,  0.2401,  ..., -0.2558,  0.7870,  0.9924]]])\n"
          ]
        }
      ]
    },
    {
      "cell_type": "markdown",
      "source": [
        "![image.png](data:image/png;base64,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)"
      ],
      "metadata": {
        "id": "MUR7mN4jQR6d"
      }
    },
    {
      "cell_type": "code",
      "source": [
        "torch.manual_seed(42)\n",
        "\n",
        "# Create a convolutional layer with same dimensions as TinyVGG\n",
        "# (try changing any of the parameters and see what happens)\n",
        "conv_layer = nn.Conv2d(in_channels=3,\n",
        "                       out_channels=10,\n",
        "                       kernel_size=3,\n",
        "                       stride=1,\n",
        "                       padding=0) # also try using \"valid\" or \"same\" here\n",
        "\n",
        "# Pass the data through the convolutional layer\n",
        "conv_layer(test_image)"
      ],
      "metadata": {
        "colab": {
          "base_uri": "https://localhost:8080/"
        },
        "id": "afm1285VQTAj",
        "outputId": "3fa005ed-5215-4f81-b0ba-c66281d54d49"
      },
      "execution_count": null,
      "outputs": [
        {
          "output_type": "execute_result",
          "data": {
            "text/plain": [
              "tensor([[[ 1.5396,  0.0516,  0.6454,  ..., -0.3673,  0.8711,  0.4256],\n",
              "         [ 0.3662,  1.0114, -0.5997,  ...,  0.8983,  0.2809, -0.2741],\n",
              "         [ 1.2664, -1.4054,  0.3727,  ..., -0.3409,  1.2191, -0.0463],\n",
              "         ...,\n",
              "         [-0.1541,  0.5132, -0.3624,  ..., -0.2360, -0.4609, -0.0035],\n",
              "         [ 0.2981, -0.2432,  1.5012,  ..., -0.6289, -0.7283, -0.5767],\n",
              "         [-0.0386, -0.0781, -0.0388,  ...,  0.2842,  0.4228, -0.1802]],\n",
              "\n",
              "        [[-0.2840, -0.0319, -0.4455,  ..., -0.7956,  1.5599, -1.2449],\n",
              "         [ 0.2753, -0.1262, -0.6541,  ..., -0.2211,  0.1999, -0.8856],\n",
              "         [-0.5404, -1.5489,  0.0249,  ..., -0.5932, -1.0913, -0.3849],\n",
              "         ...,\n",
              "         [ 0.3870, -0.4064, -0.8236,  ...,  0.1734, -0.4330, -0.4951],\n",
              "         [-0.1984, -0.6386,  1.0263,  ..., -0.9401, -0.0585, -0.7833],\n",
              "         [-0.6306, -0.2052, -0.3694,  ..., -1.3248,  0.2456, -0.7134]],\n",
              "\n",
              "        [[ 0.4414,  0.5100,  0.4846,  ..., -0.8484,  0.2638,  1.1258],\n",
              "         [ 0.8117,  0.3191, -0.0157,  ...,  1.2686,  0.2319,  0.5003],\n",
              "         [ 0.3212,  0.0485, -0.2581,  ...,  0.2258,  0.2587, -0.8804],\n",
              "         ...,\n",
              "         [-0.1144, -0.1869,  0.0160,  ..., -0.8346,  0.0974,  0.8421],\n",
              "         [ 0.2941,  0.4417,  0.5866,  ..., -0.1224,  0.4814, -0.4799],\n",
              "         [ 0.6059, -0.0415, -0.2028,  ...,  0.1170,  0.2521, -0.4372]],\n",
              "\n",
              "        ...,\n",
              "\n",
              "        [[-0.2560, -0.0477,  0.6380,  ...,  0.6436,  0.7553, -0.7055],\n",
              "         [ 1.5595, -0.2209, -0.9486,  ..., -0.4876,  0.7754,  0.0750],\n",
              "         [-0.0797,  0.2471,  1.1300,  ...,  0.1505,  0.2354,  0.9576],\n",
              "         ...,\n",
              "         [ 1.1065,  0.6839,  1.2183,  ...,  0.3015, -0.1910, -0.1902],\n",
              "         [-0.3486, -0.7173, -0.3582,  ...,  0.4917,  0.7219,  0.1513],\n",
              "         [ 0.0119,  0.1017,  0.7839,  ..., -0.3752, -0.8127, -0.1257]],\n",
              "\n",
              "        [[ 0.3841,  1.1322,  0.1620,  ...,  0.7010,  0.0109,  0.6058],\n",
              "         [ 0.1664,  0.1873,  1.5924,  ...,  0.3733,  0.9096, -0.5399],\n",
              "         [ 0.4094, -0.0861, -0.7935,  ..., -0.1285, -0.9932, -0.3013],\n",
              "         ...,\n",
              "         [ 0.2688, -0.5630, -1.1902,  ...,  0.4493,  0.5404, -0.0103],\n",
              "         [ 0.0535,  0.4411,  0.5313,  ...,  0.0148, -1.0056,  0.3759],\n",
              "         [ 0.3031, -0.1590, -0.1316,  ..., -0.5384, -0.4271, -0.4876]],\n",
              "\n",
              "        [[-1.1865, -0.7280, -1.2331,  ..., -0.9013, -0.0542, -1.5949],\n",
              "         [-0.6345, -0.5920,  0.5326,  ..., -1.0395, -0.7963, -0.0647],\n",
              "         [-0.1132,  0.5166,  0.2569,  ...,  0.5595, -1.6881,  0.9485],\n",
              "         ...,\n",
              "         [-0.0254, -0.2669,  0.1927,  ..., -0.2917,  0.1088, -0.4807],\n",
              "         [-0.2609, -0.2328,  0.1404,  ..., -0.1325, -0.8436, -0.7524],\n",
              "         [-1.1399, -0.1751, -0.8705,  ...,  0.1589,  0.3377,  0.3493]]],\n",
              "       grad_fn=<SqueezeBackward1>)"
            ]
          },
          "metadata": {},
          "execution_count": 29
        }
      ]
    },
    {
      "cell_type": "code",
      "source": [
        "torch.manual_seed(42)\n",
        "# Create a new conv_layer with different values (try setting these to whatever you like)\n",
        "conv_layer_2 = nn.Conv2d(in_channels=3, # same number of color channels as our input image\n",
        "                         out_channels=10,\n",
        "                         kernel_size=(5, 5), # kernel is usually a square so a tuple also works\n",
        "                         stride=2,\n",
        "                         padding=0)\n",
        "\n",
        "# Pass single image through new conv_layer_2 (this calls nn.Conv2d()'s forward() method on the input)\n",
        "conv_layer_2(test_image.unsqueeze(dim=0)).shape"
      ],
      "metadata": {
        "colab": {
          "base_uri": "https://localhost:8080/"
        },
        "id": "ZmejaJkvQycI",
        "outputId": "704b50b6-bca1-49b9-c676-81389aaed51d"
      },
      "execution_count": null,
      "outputs": [
        {
          "output_type": "execute_result",
          "data": {
            "text/plain": [
              "torch.Size([1, 10, 30, 30])"
            ]
          },
          "metadata": {},
          "execution_count": 30
        }
      ]
    },
    {
      "cell_type": "code",
      "source": [
        "# Get shapes of weight and bias tensors within conv_layer_2\n",
        "print(f\"conv_layer_2 weight shape: \\n{conv_layer_2.weight.shape} -> [out_channels=10, in_channels=3, kernel_size=5, kernel_size=5]\")\n",
        "print(f\"\\nconv_layer_2 bias shape: \\n{conv_layer_2.bias.shape} -> [out_channels=10]\")"
      ],
      "metadata": {
        "colab": {
          "base_uri": "https://localhost:8080/"
        },
        "id": "dL80pZPzQs15",
        "outputId": "fdf2cf62-e0b3-4b62-87b0-b32b7d800156"
      },
      "execution_count": null,
      "outputs": [
        {
          "output_type": "stream",
          "name": "stdout",
          "text": [
            "conv_layer_2 weight shape: \n",
            "torch.Size([10, 3, 5, 5]) -> [out_channels=10, in_channels=3, kernel_size=5, kernel_size=5]\n",
            "\n",
            "conv_layer_2 bias shape: \n",
            "torch.Size([10]) -> [out_channels=10]\n"
          ]
        }
      ]
    },
    {
      "cell_type": "markdown",
      "source": [
        "###Stepping through nn.MaxPool2d()"
      ],
      "metadata": {
        "id": "AEhDb4tvSRhL"
      }
    },
    {
      "cell_type": "code",
      "source": [
        "# Print out original image shape without and with unsqueezed dimension\n",
        "print(f\"Test image original shape: {test_image.shape}\")\n",
        "print(f\"Test image with unsqueezed dimension: {test_image.unsqueeze(dim=0).shape}\")\n",
        "\n",
        "# Create a sample nn.MaxPoo2d() layer\n",
        "max_pool_layer = nn.MaxPool2d(kernel_size=2)\n",
        "\n",
        "# Pass data through just the conv_layer\n",
        "test_image_through_conv = conv_layer(test_image.unsqueeze(dim=0))\n",
        "print(f\"Shape after going through conv_layer(): {test_image_through_conv.shape}\")\n",
        "\n",
        "# Pass data through the max pool layer\n",
        "test_image_through_conv_and_max_pool = max_pool_layer(test_image_through_conv)\n",
        "print(f\"Shape after going through conv_layer() and max_pool_layer(): {test_image_through_conv_and_max_pool.shape}\")"
      ],
      "metadata": {
        "colab": {
          "base_uri": "https://localhost:8080/"
        },
        "id": "phcUCRlRSSl5",
        "outputId": "7aaa71d8-bcb7-472a-8a0c-373e33d27d0c"
      },
      "execution_count": null,
      "outputs": [
        {
          "output_type": "stream",
          "name": "stdout",
          "text": [
            "Test image original shape: torch.Size([3, 64, 64])\n",
            "Test image with unsqueezed dimension: torch.Size([1, 3, 64, 64])\n",
            "Shape after going through conv_layer(): torch.Size([1, 10, 62, 62])\n",
            "Shape after going through conv_layer() and max_pool_layer(): torch.Size([1, 10, 31, 31])\n"
          ]
        }
      ]
    },
    {
      "cell_type": "code",
      "source": [
        "torch.manual_seed(42)\n",
        "# Create a random tensor with a similiar number of dimensions to our images\n",
        "random_tensor = torch.randn(size=(1, 1, 2, 2))\n",
        "print(f\"Random tensor:\\n{random_tensor}\")\n",
        "print(f\"Random tensor shape: {random_tensor.shape}\")\n",
        "\n",
        "# Create a max pool layer\n",
        "max_pool_layer = nn.MaxPool2d(kernel_size=2) # see what happens when you change the kernel_size value\n",
        "\n",
        "# Pass the random tensor through the max pool layer\n",
        "max_pool_tensor = max_pool_layer(random_tensor)\n",
        "print(f\"\\nMax pool tensor:\\n{max_pool_tensor} <- this is the maximum value from random_tensor\")\n",
        "print(f\"Max pool tensor shape: {max_pool_tensor.shape}\")"
      ],
      "metadata": {
        "colab": {
          "base_uri": "https://localhost:8080/"
        },
        "id": "df11a2AiSacL",
        "outputId": "1990b951-81f3-49b7-9c3f-defab7f35c53"
      },
      "execution_count": null,
      "outputs": [
        {
          "output_type": "stream",
          "name": "stdout",
          "text": [
            "Random tensor:\n",
            "tensor([[[[0.3367, 0.1288],\n",
            "          [0.2345, 0.2303]]]])\n",
            "Random tensor shape: torch.Size([1, 1, 2, 2])\n",
            "\n",
            "Max pool tensor:\n",
            "tensor([[[[0.3367]]]]) <- this is the maximum value from random_tensor\n",
            "Max pool tensor shape: torch.Size([1, 1, 1, 1])\n"
          ]
        }
      ]
    },
    {
      "cell_type": "markdown",
      "source": [
        "###Setup a loss function and optimizer for model_2"
      ],
      "metadata": {
        "id": "_Btndx7NSddx"
      }
    },
    {
      "cell_type": "code",
      "source": [
        "# Setup loss and optimizer\n",
        "loss_fn = nn.CrossEntropyLoss()\n",
        "optimizer = torch.optim.SGD(params=model_2.parameters(),\n",
        "                             lr=0.1)"
      ],
      "metadata": {
        "id": "absvMlTKSiwT"
      },
      "execution_count": null,
      "outputs": []
    },
    {
      "cell_type": "markdown",
      "source": [
        "###Training and testing model_2 using our training and test functions"
      ],
      "metadata": {
        "id": "guVS8_7YSjhn"
      }
    },
    {
      "cell_type": "code",
      "source": [
        "torch.manual_seed(42)\n",
        "\n",
        "# Measure time\n",
        "from timeit import default_timer as timer\n",
        "train_time_start_model_2 = timer()\n",
        "\n",
        "# Train and test model\n",
        "epochs = 3\n",
        "for epoch in tqdm(range(epochs)):\n",
        "    print(f\"Epoch: {epoch}\\n---------\")\n",
        "    train_step(data_loader=train_dataloader,\n",
        "        model=model_2,\n",
        "        loss_fn=loss_fn,\n",
        "        optimizer=optimizer,\n",
        "        accuracy_fn=accuracy_fn,\n",
        "        device=device\n",
        "    )\n",
        "    test_step(data_loader=test_dataloader,\n",
        "        model=model_2,\n",
        "        loss_fn=loss_fn,\n",
        "        accuracy_fn=accuracy_fn,\n",
        "        device=device\n",
        "    )\n",
        "\n",
        "train_time_end_model_2 = timer()\n",
        "total_train_time_model_2 = print_train_time(start=train_time_start_model_2,\n",
        "                                           end=train_time_end_model_2,\n",
        "                                           device=device)"
      ],
      "metadata": {
        "colab": {
          "base_uri": "https://localhost:8080/",
          "height": 327,
          "referenced_widgets": [
            "7448bec051894221b96cdc987eb88f05",
            "1817587f43c54490919df78690215f25",
            "54a9214999d5481ca807d7dfa0674f57",
            "b694e946ffc842d4af2f41412db1a16f",
            "2e444cb25de34f4f9be2074509cdf207",
            "ab13c29db6d8459ea11e8688e61c1cef",
            "75f7809f6aa5416b8f638b630fb41fde",
            "36f9024088a147b884570e0877a79fba",
            "099db59fa7e8461f83278d56e6681d66",
            "fd9ae63cea7d4b1ebc16059f814ca998",
            "a69553ab06864856b43c1cccf9fdef63"
          ]
        },
        "id": "58Y2uGlxSmXY",
        "outputId": "1d829278-9f03-43f9-e8a8-663b6a99cb18"
      },
      "execution_count": null,
      "outputs": [
        {
          "output_type": "display_data",
          "data": {
            "text/plain": [
              "  0%|          | 0/3 [00:00<?, ?it/s]"
            ],
            "application/vnd.jupyter.widget-view+json": {
              "version_major": 2,
              "version_minor": 0,
              "model_id": "7448bec051894221b96cdc987eb88f05"
            }
          },
          "metadata": {}
        },
        {
          "output_type": "stream",
          "name": "stdout",
          "text": [
            "Epoch: 0\n",
            "---------\n",
            "Train loss: 0.59376 | Train accuracy: 78.40%\n",
            "Test loss: 0.40046 | Test accuracy: 86.05%\n",
            "\n",
            "Epoch: 1\n",
            "---------\n",
            "Train loss: 0.36322 | Train accuracy: 86.92%\n",
            "Test loss: 0.38388 | Test accuracy: 86.52%\n",
            "\n",
            "Epoch: 2\n",
            "---------\n",
            "Train loss: 0.32697 | Train accuracy: 88.26%\n",
            "Test loss: 0.34301 | Test accuracy: 87.61%\n",
            "\n",
            "Train time on cuda: 42.518 seconds\n"
          ]
        }
      ]
    },
    {
      "cell_type": "code",
      "source": [
        "# Get model_2 results\n",
        "model_2_results = eval_model(\n",
        "    model=model_2,\n",
        "    data_loader=test_dataloader,\n",
        "    loss_fn=loss_fn,\n",
        "    accuracy_fn=accuracy_fn\n",
        ")\n",
        "model_2_results"
      ],
      "metadata": {
        "colab": {
          "base_uri": "https://localhost:8080/"
        },
        "id": "zusG3yMFcbr8",
        "outputId": "03d4a4ec-103d-4c3a-adde-f640a9371f1d"
      },
      "execution_count": null,
      "outputs": [
        {
          "output_type": "execute_result",
          "data": {
            "text/plain": [
              "{'model_name': 'FashionMNISTModelV2',\n",
              " 'model_loss': 0.34231409430503845,\n",
              " 'model_acc': 87.62979233226837}"
            ]
          },
          "metadata": {},
          "execution_count": 36
        }
      ]
    },
    {
      "cell_type": "markdown",
      "source": [
        "###Compare model results and training time"
      ],
      "metadata": {
        "id": "4auNAkYMdGGK"
      }
    },
    {
      "cell_type": "code",
      "source": [
        "import pandas as pd\n",
        "compare_results = pd.DataFrame([model_1_results, model_2_results])\n",
        "compare_results"
      ],
      "metadata": {
        "colab": {
          "base_uri": "https://localhost:8080/",
          "height": 112
        },
        "id": "kaIhB5-bdI_O",
        "outputId": "6588fdcb-9d18-4102-8e11-2fde392ca6a9"
      },
      "execution_count": null,
      "outputs": [
        {
          "output_type": "execute_result",
          "data": {
            "text/plain": [
              "            model_name  model_loss  model_acc\n",
              "0  FashionMNISTModelV1    0.687376  75.648962\n",
              "1  FashionMNISTModelV2    0.342314  87.629792"
            ],
            "text/html": [
              "\n",
              "  <div id=\"df-d76c5b4f-1f9f-4f1d-8bdb-580cd8fa82a7\" class=\"colab-df-container\">\n",
              "    <div>\n",
              "<style scoped>\n",
              "    .dataframe tbody tr th:only-of-type {\n",
              "        vertical-align: middle;\n",
              "    }\n",
              "\n",
              "    .dataframe tbody tr th {\n",
              "        vertical-align: top;\n",
              "    }\n",
              "\n",
              "    .dataframe thead th {\n",
              "        text-align: right;\n",
              "    }\n",
              "</style>\n",
              "<table border=\"1\" class=\"dataframe\">\n",
              "  <thead>\n",
              "    <tr style=\"text-align: right;\">\n",
              "      <th></th>\n",
              "      <th>model_name</th>\n",
              "      <th>model_loss</th>\n",
              "      <th>model_acc</th>\n",
              "    </tr>\n",
              "  </thead>\n",
              "  <tbody>\n",
              "    <tr>\n",
              "      <th>0</th>\n",
              "      <td>FashionMNISTModelV1</td>\n",
              "      <td>0.687376</td>\n",
              "      <td>75.648962</td>\n",
              "    </tr>\n",
              "    <tr>\n",
              "      <th>1</th>\n",
              "      <td>FashionMNISTModelV2</td>\n",
              "      <td>0.342314</td>\n",
              "      <td>87.629792</td>\n",
              "    </tr>\n",
              "  </tbody>\n",
              "</table>\n",
              "</div>\n",
              "    <div class=\"colab-df-buttons\">\n",
              "\n",
              "  <div class=\"colab-df-container\">\n",
              "    <button class=\"colab-df-convert\" onclick=\"convertToInteractive('df-d76c5b4f-1f9f-4f1d-8bdb-580cd8fa82a7')\"\n",
              "            title=\"Convert this dataframe to an interactive table.\"\n",
              "            style=\"display:none;\">\n",
              "\n",
              "  <svg xmlns=\"http://www.w3.org/2000/svg\" height=\"24px\" viewBox=\"0 -960 960 960\">\n",
              "    <path d=\"M120-120v-720h720v720H120Zm60-500h600v-160H180v160Zm220 220h160v-160H400v160Zm0 220h160v-160H400v160ZM180-400h160v-160H180v160Zm440 0h160v-160H620v160ZM180-180h160v-160H180v160Zm440 0h160v-160H620v160Z\"/>\n",
              "  </svg>\n",
              "    </button>\n",
              "\n",
              "  <style>\n",
              "    .colab-df-container {\n",
              "      display:flex;\n",
              "      gap: 12px;\n",
              "    }\n",
              "\n",
              "    .colab-df-convert {\n",
              "      background-color: #E8F0FE;\n",
              "      border: none;\n",
              "      border-radius: 50%;\n",
              "      cursor: pointer;\n",
              "      display: none;\n",
              "      fill: #1967D2;\n",
              "      height: 32px;\n",
              "      padding: 0 0 0 0;\n",
              "      width: 32px;\n",
              "    }\n",
              "\n",
              "    .colab-df-convert:hover {\n",
              "      background-color: #E2EBFA;\n",
              "      box-shadow: 0px 1px 2px rgba(60, 64, 67, 0.3), 0px 1px 3px 1px rgba(60, 64, 67, 0.15);\n",
              "      fill: #174EA6;\n",
              "    }\n",
              "\n",
              "    .colab-df-buttons div {\n",
              "      margin-bottom: 4px;\n",
              "    }\n",
              "\n",
              "    [theme=dark] .colab-df-convert {\n",
              "      background-color: #3B4455;\n",
              "      fill: #D2E3FC;\n",
              "    }\n",
              "\n",
              "    [theme=dark] .colab-df-convert:hover {\n",
              "      background-color: #434B5C;\n",
              "      box-shadow: 0px 1px 3px 1px rgba(0, 0, 0, 0.15);\n",
              "      filter: drop-shadow(0px 1px 2px rgba(0, 0, 0, 0.3));\n",
              "      fill: #FFFFFF;\n",
              "    }\n",
              "  </style>\n",
              "\n",
              "    <script>\n",
              "      const buttonEl =\n",
              "        document.querySelector('#df-d76c5b4f-1f9f-4f1d-8bdb-580cd8fa82a7 button.colab-df-convert');\n",
              "      buttonEl.style.display =\n",
              "        google.colab.kernel.accessAllowed ? 'block' : 'none';\n",
              "\n",
              "      async function convertToInteractive(key) {\n",
              "        const element = document.querySelector('#df-d76c5b4f-1f9f-4f1d-8bdb-580cd8fa82a7');\n",
              "        const dataTable =\n",
              "          await google.colab.kernel.invokeFunction('convertToInteractive',\n",
              "                                                    [key], {});\n",
              "        if (!dataTable) return;\n",
              "\n",
              "        const docLinkHtml = 'Like what you see? Visit the ' +\n",
              "          '<a target=\"_blank\" href=https://colab.research.google.com/notebooks/data_table.ipynb>data table notebook</a>'\n",
              "          + ' to learn more about interactive tables.';\n",
              "        element.innerHTML = '';\n",
              "        dataTable['output_type'] = 'display_data';\n",
              "        await google.colab.output.renderOutput(dataTable, element);\n",
              "        const docLink = document.createElement('div');\n",
              "        docLink.innerHTML = docLinkHtml;\n",
              "        element.appendChild(docLink);\n",
              "      }\n",
              "    </script>\n",
              "  </div>\n",
              "\n",
              "\n",
              "<div id=\"df-c01276a9-9ca8-488d-b5bb-1d9318189597\">\n",
              "  <button class=\"colab-df-quickchart\" onclick=\"quickchart('df-c01276a9-9ca8-488d-b5bb-1d9318189597')\"\n",
              "            title=\"Suggest charts\"\n",
              "            style=\"display:none;\">\n",
              "\n",
              "<svg xmlns=\"http://www.w3.org/2000/svg\" height=\"24px\"viewBox=\"0 0 24 24\"\n",
              "     width=\"24px\">\n",
              "    <g>\n",
              "        <path d=\"M19 3H5c-1.1 0-2 .9-2 2v14c0 1.1.9 2 2 2h14c1.1 0 2-.9 2-2V5c0-1.1-.9-2-2-2zM9 17H7v-7h2v7zm4 0h-2V7h2v10zm4 0h-2v-4h2v4z\"/>\n",
              "    </g>\n",
              "</svg>\n",
              "  </button>\n",
              "\n",
              "<style>\n",
              "  .colab-df-quickchart {\n",
              "      --bg-color: #E8F0FE;\n",
              "      --fill-color: #1967D2;\n",
              "      --hover-bg-color: #E2EBFA;\n",
              "      --hover-fill-color: #174EA6;\n",
              "      --disabled-fill-color: #AAA;\n",
              "      --disabled-bg-color: #DDD;\n",
              "  }\n",
              "\n",
              "  [theme=dark] .colab-df-quickchart {\n",
              "      --bg-color: #3B4455;\n",
              "      --fill-color: #D2E3FC;\n",
              "      --hover-bg-color: #434B5C;\n",
              "      --hover-fill-color: #FFFFFF;\n",
              "      --disabled-bg-color: #3B4455;\n",
              "      --disabled-fill-color: #666;\n",
              "  }\n",
              "\n",
              "  .colab-df-quickchart {\n",
              "    background-color: var(--bg-color);\n",
              "    border: none;\n",
              "    border-radius: 50%;\n",
              "    cursor: pointer;\n",
              "    display: none;\n",
              "    fill: var(--fill-color);\n",
              "    height: 32px;\n",
              "    padding: 0;\n",
              "    width: 32px;\n",
              "  }\n",
              "\n",
              "  .colab-df-quickchart:hover {\n",
              "    background-color: var(--hover-bg-color);\n",
              "    box-shadow: 0 1px 2px rgba(60, 64, 67, 0.3), 0 1px 3px 1px rgba(60, 64, 67, 0.15);\n",
              "    fill: var(--button-hover-fill-color);\n",
              "  }\n",
              "\n",
              "  .colab-df-quickchart-complete:disabled,\n",
              "  .colab-df-quickchart-complete:disabled:hover {\n",
              "    background-color: var(--disabled-bg-color);\n",
              "    fill: var(--disabled-fill-color);\n",
              "    box-shadow: none;\n",
              "  }\n",
              "\n",
              "  .colab-df-spinner {\n",
              "    border: 2px solid var(--fill-color);\n",
              "    border-color: transparent;\n",
              "    border-bottom-color: var(--fill-color);\n",
              "    animation:\n",
              "      spin 1s steps(1) infinite;\n",
              "  }\n",
              "\n",
              "  @keyframes spin {\n",
              "    0% {\n",
              "      border-color: transparent;\n",
              "      border-bottom-color: var(--fill-color);\n",
              "      border-left-color: var(--fill-color);\n",
              "    }\n",
              "    20% {\n",
              "      border-color: transparent;\n",
              "      border-left-color: var(--fill-color);\n",
              "      border-top-color: var(--fill-color);\n",
              "    }\n",
              "    30% {\n",
              "      border-color: transparent;\n",
              "      border-left-color: var(--fill-color);\n",
              "      border-top-color: var(--fill-color);\n",
              "      border-right-color: var(--fill-color);\n",
              "    }\n",
              "    40% {\n",
              "      border-color: transparent;\n",
              "      border-right-color: var(--fill-color);\n",
              "      border-top-color: var(--fill-color);\n",
              "    }\n",
              "    60% {\n",
              "      border-color: transparent;\n",
              "      border-right-color: var(--fill-color);\n",
              "    }\n",
              "    80% {\n",
              "      border-color: transparent;\n",
              "      border-right-color: var(--fill-color);\n",
              "      border-bottom-color: var(--fill-color);\n",
              "    }\n",
              "    90% {\n",
              "      border-color: transparent;\n",
              "      border-bottom-color: var(--fill-color);\n",
              "    }\n",
              "  }\n",
              "</style>\n",
              "\n",
              "  <script>\n",
              "    async function quickchart(key) {\n",
              "      const quickchartButtonEl =\n",
              "        document.querySelector('#' + key + ' button');\n",
              "      quickchartButtonEl.disabled = true;  // To prevent multiple clicks.\n",
              "      quickchartButtonEl.classList.add('colab-df-spinner');\n",
              "      try {\n",
              "        const charts = await google.colab.kernel.invokeFunction(\n",
              "            'suggestCharts', [key], {});\n",
              "      } catch (error) {\n",
              "        console.error('Error during call to suggestCharts:', error);\n",
              "      }\n",
              "      quickchartButtonEl.classList.remove('colab-df-spinner');\n",
              "      quickchartButtonEl.classList.add('colab-df-quickchart-complete');\n",
              "    }\n",
              "    (() => {\n",
              "      let quickchartButtonEl =\n",
              "        document.querySelector('#df-c01276a9-9ca8-488d-b5bb-1d9318189597 button');\n",
              "      quickchartButtonEl.style.display =\n",
              "        google.colab.kernel.accessAllowed ? 'block' : 'none';\n",
              "    })();\n",
              "  </script>\n",
              "</div>\n",
              "    </div>\n",
              "  </div>\n"
            ]
          },
          "metadata": {},
          "execution_count": 38
        }
      ]
    },
    {
      "cell_type": "code",
      "source": [
        "# Add training times to results comparison\n",
        "compare_results[\"training_time\"] = [total_train_time_model_1,\n",
        "                                    total_train_time_model_2]\n",
        "compare_results"
      ],
      "metadata": {
        "colab": {
          "base_uri": "https://localhost:8080/",
          "height": 112
        },
        "id": "ur8FBPNRdRIj",
        "outputId": "fd54b494-d917-427b-c81b-5f04caae26c2"
      },
      "execution_count": null,
      "outputs": [
        {
          "output_type": "execute_result",
          "data": {
            "text/plain": [
              "            model_name  model_loss  model_acc  training_time\n",
              "0  FashionMNISTModelV1    0.687376  75.648962      33.416547\n",
              "1  FashionMNISTModelV2    0.342314  87.629792      42.518477"
            ],
            "text/html": [
              "\n",
              "  <div id=\"df-262ec42c-2a98-4bcb-bb92-2b055ea32cdc\" class=\"colab-df-container\">\n",
              "    <div>\n",
              "<style scoped>\n",
              "    .dataframe tbody tr th:only-of-type {\n",
              "        vertical-align: middle;\n",
              "    }\n",
              "\n",
              "    .dataframe tbody tr th {\n",
              "        vertical-align: top;\n",
              "    }\n",
              "\n",
              "    .dataframe thead th {\n",
              "        text-align: right;\n",
              "    }\n",
              "</style>\n",
              "<table border=\"1\" class=\"dataframe\">\n",
              "  <thead>\n",
              "    <tr style=\"text-align: right;\">\n",
              "      <th></th>\n",
              "      <th>model_name</th>\n",
              "      <th>model_loss</th>\n",
              "      <th>model_acc</th>\n",
              "      <th>training_time</th>\n",
              "    </tr>\n",
              "  </thead>\n",
              "  <tbody>\n",
              "    <tr>\n",
              "      <th>0</th>\n",
              "      <td>FashionMNISTModelV1</td>\n",
              "      <td>0.687376</td>\n",
              "      <td>75.648962</td>\n",
              "      <td>33.416547</td>\n",
              "    </tr>\n",
              "    <tr>\n",
              "      <th>1</th>\n",
              "      <td>FashionMNISTModelV2</td>\n",
              "      <td>0.342314</td>\n",
              "      <td>87.629792</td>\n",
              "      <td>42.518477</td>\n",
              "    </tr>\n",
              "  </tbody>\n",
              "</table>\n",
              "</div>\n",
              "    <div class=\"colab-df-buttons\">\n",
              "\n",
              "  <div class=\"colab-df-container\">\n",
              "    <button class=\"colab-df-convert\" onclick=\"convertToInteractive('df-262ec42c-2a98-4bcb-bb92-2b055ea32cdc')\"\n",
              "            title=\"Convert this dataframe to an interactive table.\"\n",
              "            style=\"display:none;\">\n",
              "\n",
              "  <svg xmlns=\"http://www.w3.org/2000/svg\" height=\"24px\" viewBox=\"0 -960 960 960\">\n",
              "    <path d=\"M120-120v-720h720v720H120Zm60-500h600v-160H180v160Zm220 220h160v-160H400v160Zm0 220h160v-160H400v160ZM180-400h160v-160H180v160Zm440 0h160v-160H620v160ZM180-180h160v-160H180v160Zm440 0h160v-160H620v160Z\"/>\n",
              "  </svg>\n",
              "    </button>\n",
              "\n",
              "  <style>\n",
              "    .colab-df-container {\n",
              "      display:flex;\n",
              "      gap: 12px;\n",
              "    }\n",
              "\n",
              "    .colab-df-convert {\n",
              "      background-color: #E8F0FE;\n",
              "      border: none;\n",
              "      border-radius: 50%;\n",
              "      cursor: pointer;\n",
              "      display: none;\n",
              "      fill: #1967D2;\n",
              "      height: 32px;\n",
              "      padding: 0 0 0 0;\n",
              "      width: 32px;\n",
              "    }\n",
              "\n",
              "    .colab-df-convert:hover {\n",
              "      background-color: #E2EBFA;\n",
              "      box-shadow: 0px 1px 2px rgba(60, 64, 67, 0.3), 0px 1px 3px 1px rgba(60, 64, 67, 0.15);\n",
              "      fill: #174EA6;\n",
              "    }\n",
              "\n",
              "    .colab-df-buttons div {\n",
              "      margin-bottom: 4px;\n",
              "    }\n",
              "\n",
              "    [theme=dark] .colab-df-convert {\n",
              "      background-color: #3B4455;\n",
              "      fill: #D2E3FC;\n",
              "    }\n",
              "\n",
              "    [theme=dark] .colab-df-convert:hover {\n",
              "      background-color: #434B5C;\n",
              "      box-shadow: 0px 1px 3px 1px rgba(0, 0, 0, 0.15);\n",
              "      filter: drop-shadow(0px 1px 2px rgba(0, 0, 0, 0.3));\n",
              "      fill: #FFFFFF;\n",
              "    }\n",
              "  </style>\n",
              "\n",
              "    <script>\n",
              "      const buttonEl =\n",
              "        document.querySelector('#df-262ec42c-2a98-4bcb-bb92-2b055ea32cdc button.colab-df-convert');\n",
              "      buttonEl.style.display =\n",
              "        google.colab.kernel.accessAllowed ? 'block' : 'none';\n",
              "\n",
              "      async function convertToInteractive(key) {\n",
              "        const element = document.querySelector('#df-262ec42c-2a98-4bcb-bb92-2b055ea32cdc');\n",
              "        const dataTable =\n",
              "          await google.colab.kernel.invokeFunction('convertToInteractive',\n",
              "                                                    [key], {});\n",
              "        if (!dataTable) return;\n",
              "\n",
              "        const docLinkHtml = 'Like what you see? Visit the ' +\n",
              "          '<a target=\"_blank\" href=https://colab.research.google.com/notebooks/data_table.ipynb>data table notebook</a>'\n",
              "          + ' to learn more about interactive tables.';\n",
              "        element.innerHTML = '';\n",
              "        dataTable['output_type'] = 'display_data';\n",
              "        await google.colab.output.renderOutput(dataTable, element);\n",
              "        const docLink = document.createElement('div');\n",
              "        docLink.innerHTML = docLinkHtml;\n",
              "        element.appendChild(docLink);\n",
              "      }\n",
              "    </script>\n",
              "  </div>\n",
              "\n",
              "\n",
              "<div id=\"df-d2a94076-54b4-451f-b03e-2b8a0a6d5de5\">\n",
              "  <button class=\"colab-df-quickchart\" onclick=\"quickchart('df-d2a94076-54b4-451f-b03e-2b8a0a6d5de5')\"\n",
              "            title=\"Suggest charts\"\n",
              "            style=\"display:none;\">\n",
              "\n",
              "<svg xmlns=\"http://www.w3.org/2000/svg\" height=\"24px\"viewBox=\"0 0 24 24\"\n",
              "     width=\"24px\">\n",
              "    <g>\n",
              "        <path d=\"M19 3H5c-1.1 0-2 .9-2 2v14c0 1.1.9 2 2 2h14c1.1 0 2-.9 2-2V5c0-1.1-.9-2-2-2zM9 17H7v-7h2v7zm4 0h-2V7h2v10zm4 0h-2v-4h2v4z\"/>\n",
              "    </g>\n",
              "</svg>\n",
              "  </button>\n",
              "\n",
              "<style>\n",
              "  .colab-df-quickchart {\n",
              "      --bg-color: #E8F0FE;\n",
              "      --fill-color: #1967D2;\n",
              "      --hover-bg-color: #E2EBFA;\n",
              "      --hover-fill-color: #174EA6;\n",
              "      --disabled-fill-color: #AAA;\n",
              "      --disabled-bg-color: #DDD;\n",
              "  }\n",
              "\n",
              "  [theme=dark] .colab-df-quickchart {\n",
              "      --bg-color: #3B4455;\n",
              "      --fill-color: #D2E3FC;\n",
              "      --hover-bg-color: #434B5C;\n",
              "      --hover-fill-color: #FFFFFF;\n",
              "      --disabled-bg-color: #3B4455;\n",
              "      --disabled-fill-color: #666;\n",
              "  }\n",
              "\n",
              "  .colab-df-quickchart {\n",
              "    background-color: var(--bg-color);\n",
              "    border: none;\n",
              "    border-radius: 50%;\n",
              "    cursor: pointer;\n",
              "    display: none;\n",
              "    fill: var(--fill-color);\n",
              "    height: 32px;\n",
              "    padding: 0;\n",
              "    width: 32px;\n",
              "  }\n",
              "\n",
              "  .colab-df-quickchart:hover {\n",
              "    background-color: var(--hover-bg-color);\n",
              "    box-shadow: 0 1px 2px rgba(60, 64, 67, 0.3), 0 1px 3px 1px rgba(60, 64, 67, 0.15);\n",
              "    fill: var(--button-hover-fill-color);\n",
              "  }\n",
              "\n",
              "  .colab-df-quickchart-complete:disabled,\n",
              "  .colab-df-quickchart-complete:disabled:hover {\n",
              "    background-color: var(--disabled-bg-color);\n",
              "    fill: var(--disabled-fill-color);\n",
              "    box-shadow: none;\n",
              "  }\n",
              "\n",
              "  .colab-df-spinner {\n",
              "    border: 2px solid var(--fill-color);\n",
              "    border-color: transparent;\n",
              "    border-bottom-color: var(--fill-color);\n",
              "    animation:\n",
              "      spin 1s steps(1) infinite;\n",
              "  }\n",
              "\n",
              "  @keyframes spin {\n",
              "    0% {\n",
              "      border-color: transparent;\n",
              "      border-bottom-color: var(--fill-color);\n",
              "      border-left-color: var(--fill-color);\n",
              "    }\n",
              "    20% {\n",
              "      border-color: transparent;\n",
              "      border-left-color: var(--fill-color);\n",
              "      border-top-color: var(--fill-color);\n",
              "    }\n",
              "    30% {\n",
              "      border-color: transparent;\n",
              "      border-left-color: var(--fill-color);\n",
              "      border-top-color: var(--fill-color);\n",
              "      border-right-color: var(--fill-color);\n",
              "    }\n",
              "    40% {\n",
              "      border-color: transparent;\n",
              "      border-right-color: var(--fill-color);\n",
              "      border-top-color: var(--fill-color);\n",
              "    }\n",
              "    60% {\n",
              "      border-color: transparent;\n",
              "      border-right-color: var(--fill-color);\n",
              "    }\n",
              "    80% {\n",
              "      border-color: transparent;\n",
              "      border-right-color: var(--fill-color);\n",
              "      border-bottom-color: var(--fill-color);\n",
              "    }\n",
              "    90% {\n",
              "      border-color: transparent;\n",
              "      border-bottom-color: var(--fill-color);\n",
              "    }\n",
              "  }\n",
              "</style>\n",
              "\n",
              "  <script>\n",
              "    async function quickchart(key) {\n",
              "      const quickchartButtonEl =\n",
              "        document.querySelector('#' + key + ' button');\n",
              "      quickchartButtonEl.disabled = true;  // To prevent multiple clicks.\n",
              "      quickchartButtonEl.classList.add('colab-df-spinner');\n",
              "      try {\n",
              "        const charts = await google.colab.kernel.invokeFunction(\n",
              "            'suggestCharts', [key], {});\n",
              "      } catch (error) {\n",
              "        console.error('Error during call to suggestCharts:', error);\n",
              "      }\n",
              "      quickchartButtonEl.classList.remove('colab-df-spinner');\n",
              "      quickchartButtonEl.classList.add('colab-df-quickchart-complete');\n",
              "    }\n",
              "    (() => {\n",
              "      let quickchartButtonEl =\n",
              "        document.querySelector('#df-d2a94076-54b4-451f-b03e-2b8a0a6d5de5 button');\n",
              "      quickchartButtonEl.style.display =\n",
              "        google.colab.kernel.accessAllowed ? 'block' : 'none';\n",
              "    })();\n",
              "  </script>\n",
              "</div>\n",
              "    </div>\n",
              "  </div>\n"
            ]
          },
          "metadata": {},
          "execution_count": 39
        }
      ]
    },
    {
      "cell_type": "code",
      "source": [
        "# Visualize our model results\n",
        "compare_results.set_index(\"model_name\")[\"model_acc\"].plot(kind=\"barh\")\n",
        "plt.xlabel(\"accuracy (%)\")\n",
        "plt.ylabel(\"model\");"
      ],
      "metadata": {
        "colab": {
          "base_uri": "https://localhost:8080/",
          "height": 416
        },
        "id": "2_KBONwGdWLC",
        "outputId": "0cc55e75-2fa1-4c23-e884-b517d9c1ea26"
      },
      "execution_count": null,
      "outputs": [
        {
          "output_type": "display_data",
          "data": {
            "text/plain": [
              "<Figure size 640x480 with 1 Axes>"
            ],
            "image/png": "[encoded data removed]"
          },
          "metadata": {}
        }
      ]
    },
    {
      "cell_type": "markdown",
      "source": [
        "###Make and evaluate random predictions with best model"
      ],
      "metadata": {
        "id": "kok2ThT4eKIP"
      }
    },
    {
      "cell_type": "code",
      "source": [
        "def make_predictions(model: torch.nn.Module, data: list, device: torch.device = device):\n",
        "    pred_probs = []\n",
        "    model.eval()\n",
        "    with torch.inference_mode():\n",
        "        for sample in data:\n",
        "            # Prepare sample\n",
        "            sample = torch.unsqueeze(sample, dim=0).to(device) # Add an extra dimension and send sample to device\n",
        "\n",
        "            # Forward pass (model outputs raw logit)\n",
        "            pred_logit = model(sample)\n",
        "\n",
        "            # Get prediction probability (logit -> prediction probability)\n",
        "            pred_prob = torch.softmax(pred_logit.squeeze(), dim=0) # note: perform softmax on the \"logits\" dimension, not \"batch\" dimension (in this case we have a batch size of 1, so can perform on dim=0)\n",
        "\n",
        "            # Get pred_prob off GPU for further calculations\n",
        "            pred_probs.append(pred_prob.cpu())\n",
        "\n",
        "    # Stack the pred_probs to turn list into a tensor\n",
        "    return torch.stack(pred_probs)"
      ],
      "metadata": {
        "id": "vW1RdqoDeMRB"
      },
      "execution_count": null,
      "outputs": []
    },
    {
      "cell_type": "code",
      "source": [
        "import random\n",
        "random.seed(42)\n",
        "test_samples = []\n",
        "test_labels = []\n",
        "for sample, label in random.sample(list(test_data), k=9):\n",
        "    test_samples.append(sample)\n",
        "    test_labels.append(label)\n",
        "\n",
        "# View the first test sample shape and label\n",
        "print(f\"Test sample image shape: {test_samples[0].shape}\\nTest sample label: {test_labels[0]} ({class_names[test_labels[0]]})\")"
      ],
      "metadata": {
        "colab": {
          "base_uri": "https://localhost:8080/"
        },
        "id": "fapLAFSbfQRc",
        "outputId": "6b3402aa-8c58-4913-9adc-b65370016848"
      },
      "execution_count": null,
      "outputs": [
        {
          "output_type": "stream",
          "name": "stdout",
          "text": [
            "Test sample image shape: torch.Size([1, 28, 28])\n",
            "Test sample label: 5 (Sandal)\n"
          ]
        }
      ]
    },
    {
      "cell_type": "code",
      "source": [
        "# Make predictions on test samples with model 2\n",
        "pred_probs= make_predictions(model=model_2,\n",
        "                             data=test_samples)\n",
        "\n",
        "# View first two prediction probabilities list\n",
        "pred_probs[:2]"
      ],
      "metadata": {
        "colab": {
          "base_uri": "https://localhost:8080/"
        },
        "id": "QZDdMzq3fk7T",
        "outputId": "0b63c062-4a15-4b3b-ea8d-0caf015925d7"
      },
      "execution_count": null,
      "outputs": [
        {
          "output_type": "execute_result",
          "data": {
            "text/plain": [
              "tensor([[1.2734e-07, 6.1192e-08, 3.2509e-08, 3.7014e-07, 5.6686e-09, 9.9830e-01,\n",
              "         2.4548e-08, 3.4200e-04, 1.3357e-05, 1.3480e-03],\n",
              "        [1.9953e-02, 9.1564e-01, 4.4660e-05, 5.3698e-02, 1.2875e-03, 3.4519e-06,\n",
              "         9.0349e-03, 8.5991e-05, 1.6712e-04, 8.4733e-05]])"
            ]
          },
          "metadata": {},
          "execution_count": 43
        }
      ]
    },
    {
      "cell_type": "code",
      "source": [
        "# Make predictions on test samples with model 2\n",
        "pred_probs= make_predictions(model=model_2,\n",
        "                             data=test_samples)\n",
        "\n",
        "# View first two prediction probabilities list\n",
        "pred_probs[:2]"
      ],
      "metadata": {
        "colab": {
          "base_uri": "https://localhost:8080/"
        },
        "id": "8eGn8KKsgmMA",
        "outputId": "0fdc3204-eb11-4001-e3db-1c3172652ff5"
      },
      "execution_count": null,
      "outputs": [
        {
          "output_type": "execute_result",
          "data": {
            "text/plain": [
              "tensor([[1.2734e-07, 6.1192e-08, 3.2509e-08, 3.7014e-07, 5.6686e-09, 9.9830e-01,\n",
              "         2.4548e-08, 3.4200e-04, 1.3357e-05, 1.3480e-03],\n",
              "        [1.9953e-02, 9.1564e-01, 4.4660e-05, 5.3698e-02, 1.2875e-03, 3.4519e-06,\n",
              "         9.0349e-03, 8.5991e-05, 1.6712e-04, 8.4733e-05]])"
            ]
          },
          "metadata": {},
          "execution_count": 44
        }
      ]
    },
    {
      "cell_type": "code",
      "source": [
        "# Turn the prediction probabilities into prediction labels by taking the argmax()\n",
        "pred_classes = pred_probs.argmax(dim=1)\n",
        "pred_classes"
      ],
      "metadata": {
        "colab": {
          "base_uri": "https://localhost:8080/"
        },
        "id": "WvUOp54ngtFj",
        "outputId": "d58ca7c4-27f4-440f-c062-c718e866e136"
      },
      "execution_count": null,
      "outputs": [
        {
          "output_type": "execute_result",
          "data": {
            "text/plain": [
              "tensor([5, 1, 7, 2, 3, 0, 4, 7, 1])"
            ]
          },
          "metadata": {},
          "execution_count": 45
        }
      ]
    },
    {
      "cell_type": "code",
      "source": [
        "# Are our predictions in the same form as our test labels?\n",
        "test_labels, pred_classes"
      ],
      "metadata": {
        "colab": {
          "base_uri": "https://localhost:8080/"
        },
        "id": "NQVjDAgug5IF",
        "outputId": "b74b8d51-98b3-4b71-bff9-c6a1403f23b2"
      },
      "execution_count": null,
      "outputs": [
        {
          "output_type": "execute_result",
          "data": {
            "text/plain": [
              "([5, 1, 7, 4, 3, 0, 4, 7, 1], tensor([5, 1, 7, 2, 3, 0, 4, 7, 1]))"
            ]
          },
          "metadata": {},
          "execution_count": 46
        }
      ]
    },
    {
      "cell_type": "code",
      "source": [
        "# Plot predictions\n",
        "plt.figure(figsize=(9, 9))\n",
        "nrows = 3\n",
        "ncols = 3\n",
        "for i, sample in enumerate(test_samples):\n",
        "  # Create a subplot\n",
        "  plt.subplot(nrows, ncols, i+1)\n",
        "\n",
        "  # Plot the target image\n",
        "  plt.imshow(sample.squeeze(), cmap=\"gray\")\n",
        "\n",
        "  # Find the prediction label (in text form, e.g. \"Sandal\")\n",
        "  pred_label = class_names[pred_classes[i]]\n",
        "\n",
        "  # Get the truth label (in text form, e.g. \"T-shirt\")\n",
        "  truth_label = class_names[test_labels[i]]\n",
        "\n",
        "  # Create the title text of the plot\n",
        "  title_text = f\"Pred: {pred_label} | Truth: {truth_label}\"\n",
        "\n",
        "  # Check for equality and change title colour accordingly\n",
        "  if pred_label == truth_label:\n",
        "      plt.title(title_text, fontsize=10, c=\"g\") # green text if correct\n",
        "  else:\n",
        "      plt.title(title_text, fontsize=10, c=\"r\") # red text if wrong\n",
        "  plt.axis(False);"
      ],
      "metadata": {
        "colab": {
          "base_uri": "https://localhost:8080/",
          "height": 663
        },
        "id": "PmmrVa_RhBm_",
        "outputId": "b89eb7bb-41d1-46be-85d7-625319a358ac"
      },
      "execution_count": null,
      "outputs": [
        {
          "output_type": "display_data",
          "data": {
            "text/plain": [
              "<Figure size 900x900 with 9 Axes>"
            ],
            "image/png": "[encoded data removed]"
          },
          "metadata": {}
        }
      ]
    },
    {
      "cell_type": "markdown",
      "source": [
        "###Confusion Matrix"
      ],
      "metadata": {
        "id": "vg1s3qwRiwHi"
      }
    },
    {
      "cell_type": "code",
      "source": [
        "# Import tqdm for progress bar\n",
        "from tqdm.auto import tqdm\n",
        "\n",
        "# 1. Make predictions with trained model\n",
        "y_preds = []\n",
        "model_2.eval()\n",
        "with torch.inference_mode():\n",
        "  for X, y in tqdm(test_dataloader, desc=\"Making predictions\"):\n",
        "    # Send data and targets to target device\n",
        "    X, y = X.to(device), y.to(device)\n",
        "    # Do the forward pass\n",
        "    y_logit = model_2(X)\n",
        "    # Turn predictions from logits -> prediction probabilities -> predictions labels\n",
        "    y_pred = torch.softmax(y_logit, dim=1).argmax(dim=1) # note: perform softmax on the \"logits\" dimension, not \"batch\" dimension (in this case we have a batch size of 32, so can perform on dim=1)\n",
        "    # Put predictions on CPU for evaluation\n",
        "    y_preds.append(y_pred.cpu())\n",
        "# Concatenate list of predictions into a tensor\n",
        "y_pred_tensor = torch.cat(y_preds)"
      ],
      "metadata": {
        "colab": {
          "base_uri": "https://localhost:8080/",
          "height": 77,
          "referenced_widgets": [
            "df91bfd719bd434e93e11079c10811cf",
            "f14091ef8c134a328bb4ee566bb32476",
            "74b9ceb05ce0466699857826004dd1b1",
            "d4d5c03c8abe4ed0be33b9abef04bea0",
            "44270b86846a45dea5a2c103187faa57",
            "eadc8d4d2da14011902ff10f9e7be615",
            "9ae8db00179544d488b77afef3a5422d",
            "2d501ca6b98341cfbcf2d75bd7d8aa89",
            "b7d09534925f44288881693d0a2864cc",
            "067571a30cdb4f4fb712abbc04e7968c",
            "2c60cf0a2b8c486aa6e6931866689667"
          ]
        },
        "id": "B2eLtFfbikR6",
        "outputId": "a3c6361c-4b55-44a1-acd0-22737bb94e45"
      },
      "execution_count": null,
      "outputs": [
        {
          "output_type": "display_data",
          "data": {
            "text/plain": [
              "Making predictions:   0%|          | 0/313 [00:00<?, ?it/s]"
            ],
            "application/vnd.jupyter.widget-view+json": {
              "version_major": 2,
              "version_minor": 0,
              "model_id": "df91bfd719bd434e93e11079c10811cf"
            }
          },
          "metadata": {}
        }
      ]
    },
    {
      "cell_type": "code",
      "source": [
        "# See if torchmetrics exists, if not, install it\n",
        "try:\n",
        "    import torchmetrics, mlxtend\n",
        "    print(f\"mlxtend version: {mlxtend.__version__}\")\n",
        "    assert int(mlxtend.__version__.split(\".\")[1]) >= 19, \"mlxtend verison should be 0.19.0 or higher\"\n",
        "except:\n",
        "    !pip install -q torchmetrics -U mlxtend # <- Note: If you're using Google Colab, this may require restarting the runtime\n",
        "    import torchmetrics, mlxtend\n",
        "    print(f\"mlxtend version: {mlxtend.__version__}\")"
      ],
      "metadata": {
        "colab": {
          "base_uri": "https://localhost:8080/"
        },
        "id": "jfJU0zE8i3sU",
        "outputId": "ff202efa-9670-4b13-9d3d-3a3b081f3f72"
      },
      "execution_count": null,
      "outputs": [
        {
          "output_type": "stream",
          "name": "stdout",
          "text": [
            "\u001b[2K     \u001b[90m━━━━━━━━━━━━━━━━━━━━━━━━━━━━━━━━━━━━━━━━\u001b[0m \u001b[32m806.1/806.1 kB\u001b[0m \u001b[31m11.9 MB/s\u001b[0m eta \u001b[36m0:00:00\u001b[0m\n",
            "\u001b[2K     \u001b[90m━━━━━━━━━━━━━━━━━━━━━━━━━━━━━━━━━━━━━━━━\u001b[0m \u001b[32m1.4/1.4 MB\u001b[0m \u001b[31m63.0 MB/s\u001b[0m eta \u001b[36m0:00:00\u001b[0m\n",
            "\u001b[?25hmlxtend version: 0.23.0\n"
          ]
        }
      ]
    },
    {
      "cell_type": "code",
      "source": [
        "from torchmetrics import ConfusionMatrix\n",
        "from mlxtend.plotting import plot_confusion_matrix\n",
        "\n",
        "# 2. Setup confusion matrix instance and compare predictions to targets\n",
        "confmat = ConfusionMatrix(num_classes=len(class_names), task='multiclass')\n",
        "confmat_tensor = confmat(preds=y_pred_tensor,\n",
        "                         target=test_data.targets)\n",
        "\n",
        "# 3. Plot the confusion matrix\n",
        "fig, ax = plot_confusion_matrix(\n",
        "    conf_mat=confmat_tensor.numpy(), # matplotlib likes working with NumPy\n",
        "    class_names=class_names, # turn the row and column labels into class names\n",
        "    figsize=(10, 7)\n",
        ");"
      ],
      "metadata": {
        "colab": {
          "base_uri": "https://localhost:8080/",
          "height": 652
        },
        "id": "YPXWyVqHiykJ",
        "outputId": "498c88e9-3d8e-4c32-fa42-70a1727f083d"
      },
      "execution_count": null,
      "outputs": [
        {
          "output_type": "display_data",
          "data": {
            "text/plain": [
              "<Figure size 1000x700 with 1 Axes>"
            ],
            "image/png": "[encoded data removed]"
          },
          "metadata": {}
        }
      ]
    },
    {
      "cell_type": "markdown",
      "source": [
        "###Save and load best performing model"
      ],
      "metadata": {
        "id": "edv-bmE2jIsv"
      }
    },
    {
      "cell_type": "code",
      "source": [
        "from pathlib import Path\n",
        "\n",
        "# Create models directory (if it doesn't already exist), see: https://docs.python.org/3/library/pathlib.html#pathlib.Path.mkdir\n",
        "MODEL_PATH = Path(\"models\")\n",
        "MODEL_PATH.mkdir(parents=True, # create parent directories if needed\n",
        "                 exist_ok=True # if models directory already exists, don't error\n",
        ")\n",
        "\n",
        "# Create model save path\n",
        "MODEL_NAME = \"03_pytorch_computer_vision_model_2.pth\"\n",
        "MODEL_SAVE_PATH = MODEL_PATH / MODEL_NAME\n",
        "\n",
        "# Save the model state dict\n",
        "print(f\"Saving model to: {MODEL_SAVE_PATH}\")\n",
        "torch.save(obj=model_2.state_dict(), # only saving the state_dict() only saves the learned parameters\n",
        "           f=MODEL_SAVE_PATH)"
      ],
      "metadata": {
        "colab": {
          "base_uri": "https://localhost:8080/"
        },
        "id": "_BdiE8o-jMWE",
        "outputId": "218c740f-6d94-45db-e8ca-7ca84133bfb8"
      },
      "execution_count": null,
      "outputs": [
        {
          "output_type": "stream",
          "name": "stdout",
          "text": [
            "Saving model to: models/03_pytorch_computer_vision_model_2.pth\n"
          ]
        }
      ]
    },
    {
      "cell_type": "code",
      "source": [
        "# Create a new instance of FashionMNISTModelV2 (the same class as our saved state_dict())\n",
        "# Note: loading model will error if the shapes here aren't the same as the saved version\n",
        "loaded_model_2 = FashionMNISTModelV2(input_shape=1,\n",
        "                                    hidden_units=10, # try changing this to 128 and seeing what happens\n",
        "                                    output_shape=10)\n",
        "\n",
        "# Load in the saved state_dict()\n",
        "loaded_model_2.load_state_dict(torch.load(f=MODEL_SAVE_PATH))\n",
        "\n",
        "# Send model to GPU\n",
        "loaded_model_2 = loaded_model_2.to(device)"
      ],
      "metadata": {
        "id": "J5gsIvk0jQIe"
      },
      "execution_count": null,
      "outputs": []
    },
    {
      "cell_type": "code",
      "source": [
        "# Evaluate loaded model\n",
        "torch.manual_seed(42)\n",
        "\n",
        "loaded_model_2_results = eval_model(\n",
        "    model=loaded_model_2,\n",
        "    data_loader=test_dataloader,\n",
        "    loss_fn=loss_fn,\n",
        "    accuracy_fn=accuracy_fn\n",
        ")\n",
        "\n",
        "loaded_model_2_results"
      ],
      "metadata": {
        "colab": {
          "base_uri": "https://localhost:8080/"
        },
        "id": "K6YpmbkSjU_A",
        "outputId": "e246081a-eca1-48bb-ab50-a048ce279c66"
      },
      "execution_count": null,
      "outputs": [
        {
          "output_type": "execute_result",
          "data": {
            "text/plain": [
              "{'model_name': 'FashionMNISTModelV2',\n",
              " 'model_loss': 0.3421308696269989,\n",
              " 'model_acc': 87.62979233226837}"
            ]
          },
          "metadata": {},
          "execution_count": 54
        }
      ]
    },
    {
      "cell_type": "code",
      "source": [
        "model_2_results"
      ],
      "metadata": {
        "colab": {
          "base_uri": "https://localhost:8080/"
        },
        "id": "8awu7IogjgRn",
        "outputId": "eebc1db8-c0b8-4878-9cc0-234f51f1700c"
      },
      "execution_count": null,
      "outputs": [
        {
          "output_type": "execute_result",
          "data": {
            "text/plain": [
              "{'model_name': 'FashionMNISTModelV2',\n",
              " 'model_loss': 0.34231409430503845,\n",
              " 'model_acc': 87.62979233226837}"
            ]
          },
          "metadata": {},
          "execution_count": 55
        }
      ]
    },
    {
      "cell_type": "code",
      "source": [
        "# Check to see if results are close to each other (if they are very far away, there may be an error)\n",
        "torch.isclose(torch.tensor(model_2_results[\"model_loss\"]),\n",
        "              torch.tensor(loaded_model_2_results[\"model_loss\"]),\n",
        "              atol=1e-08, # absolute tolerance\n",
        "              rtol=0.0001) # relative tolerance"
      ],
      "metadata": {
        "id": "6VeeiTtokLkO",
        "outputId": "16cdf0d5-4234-4805-ad66-dd694ed40761",
        "colab": {
          "base_uri": "https://localhost:8080/"
        }
      },
      "execution_count": null,
      "outputs": [
        {
          "output_type": "execute_result",
          "data": {
            "text/plain": [
              "tensor(False)"
            ]
          },
          "metadata": {},
          "execution_count": 56
        }
      ]
    }
  ]
}